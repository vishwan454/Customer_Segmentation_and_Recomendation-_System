{
 "cells": [
  {
   "cell_type": "markdown",
   "metadata": {},
   "source": [
    "Problem:\n",
    "Delve into online retail secctor analyzing a transactional dataset from UK based retailer\n",
    "\n",
    "dataset Documents all transaction between 2010 and 2011.\n",
    "\n",
    "Primary Objective ---- amplify the efficency of marketing strategies and boost sales through customer segmentation.\n",
    "\n",
    "Aim ------- Transform transactional dataset into Customer-Centric dataset by creating new features that will facilitate the segmetation of customer into distinct groups using the K-Means Clustering algorithm.\n",
    "\n",
    "segmentation allow us tounderstand distinct Profiles and preferences of different customer groups.\n",
    "\n",
    "Develop recommendation system ------- that suggest top-selling Products to customer within each segement who haven't Purchased those items."
   ]
  },
  {
   "cell_type": "code",
   "execution_count": 2,
   "metadata": {},
   "outputs": [],
   "source": [
    "import pandas as pd \n",
    "import numpy as np\n",
    "import matplotlib.pyplot as plt "
   ]
  },
  {
   "cell_type": "code",
   "execution_count": 3,
   "metadata": {},
   "outputs": [
    {
     "data": {
      "text/html": [
       "<div>\n",
       "<style scoped>\n",
       "    .dataframe tbody tr th:only-of-type {\n",
       "        vertical-align: middle;\n",
       "    }\n",
       "\n",
       "    .dataframe tbody tr th {\n",
       "        vertical-align: top;\n",
       "    }\n",
       "\n",
       "    .dataframe thead th {\n",
       "        text-align: right;\n",
       "    }\n",
       "</style>\n",
       "<table border=\"1\" class=\"dataframe\">\n",
       "  <thead>\n",
       "    <tr style=\"text-align: right;\">\n",
       "      <th></th>\n",
       "      <th>InvoiceNo</th>\n",
       "      <th>StockCode</th>\n",
       "      <th>Description</th>\n",
       "      <th>Quantity</th>\n",
       "      <th>InvoiceDate</th>\n",
       "      <th>UnitPrice</th>\n",
       "      <th>CustomerID</th>\n",
       "      <th>Country</th>\n",
       "    </tr>\n",
       "  </thead>\n",
       "  <tbody>\n",
       "    <tr>\n",
       "      <th>0</th>\n",
       "      <td>536365</td>\n",
       "      <td>85123A</td>\n",
       "      <td>WHITE HANGING HEART T-LIGHT HOLDER</td>\n",
       "      <td>6</td>\n",
       "      <td>12/1/2010 8:26</td>\n",
       "      <td>2.55</td>\n",
       "      <td>17850.0</td>\n",
       "      <td>United Kingdom</td>\n",
       "    </tr>\n",
       "    <tr>\n",
       "      <th>1</th>\n",
       "      <td>536365</td>\n",
       "      <td>71053</td>\n",
       "      <td>WHITE METAL LANTERN</td>\n",
       "      <td>6</td>\n",
       "      <td>12/1/2010 8:26</td>\n",
       "      <td>3.39</td>\n",
       "      <td>17850.0</td>\n",
       "      <td>United Kingdom</td>\n",
       "    </tr>\n",
       "    <tr>\n",
       "      <th>2</th>\n",
       "      <td>536365</td>\n",
       "      <td>84406B</td>\n",
       "      <td>CREAM CUPID HEARTS COAT HANGER</td>\n",
       "      <td>8</td>\n",
       "      <td>12/1/2010 8:26</td>\n",
       "      <td>2.75</td>\n",
       "      <td>17850.0</td>\n",
       "      <td>United Kingdom</td>\n",
       "    </tr>\n",
       "    <tr>\n",
       "      <th>3</th>\n",
       "      <td>536365</td>\n",
       "      <td>84029G</td>\n",
       "      <td>KNITTED UNION FLAG HOT WATER BOTTLE</td>\n",
       "      <td>6</td>\n",
       "      <td>12/1/2010 8:26</td>\n",
       "      <td>3.39</td>\n",
       "      <td>17850.0</td>\n",
       "      <td>United Kingdom</td>\n",
       "    </tr>\n",
       "    <tr>\n",
       "      <th>4</th>\n",
       "      <td>536365</td>\n",
       "      <td>84029E</td>\n",
       "      <td>RED WOOLLY HOTTIE WHITE HEART.</td>\n",
       "      <td>6</td>\n",
       "      <td>12/1/2010 8:26</td>\n",
       "      <td>3.39</td>\n",
       "      <td>17850.0</td>\n",
       "      <td>United Kingdom</td>\n",
       "    </tr>\n",
       "  </tbody>\n",
       "</table>\n",
       "</div>"
      ],
      "text/plain": [
       "  InvoiceNo StockCode                          Description  Quantity  \\\n",
       "0    536365    85123A   WHITE HANGING HEART T-LIGHT HOLDER         6   \n",
       "1    536365     71053                  WHITE METAL LANTERN         6   \n",
       "2    536365    84406B       CREAM CUPID HEARTS COAT HANGER         8   \n",
       "3    536365    84029G  KNITTED UNION FLAG HOT WATER BOTTLE         6   \n",
       "4    536365    84029E       RED WOOLLY HOTTIE WHITE HEART.         6   \n",
       "\n",
       "      InvoiceDate  UnitPrice  CustomerID         Country  \n",
       "0  12/1/2010 8:26       2.55     17850.0  United Kingdom  \n",
       "1  12/1/2010 8:26       3.39     17850.0  United Kingdom  \n",
       "2  12/1/2010 8:26       2.75     17850.0  United Kingdom  \n",
       "3  12/1/2010 8:26       3.39     17850.0  United Kingdom  \n",
       "4  12/1/2010 8:26       3.39     17850.0  United Kingdom  "
      ]
     },
     "execution_count": 3,
     "metadata": {},
     "output_type": "execute_result"
    }
   ],
   "source": [
    "df = pd.read_csv(\"data.csv\",encoding=\"ISO-8859-1\")\n",
    "df.head(5)"
   ]
  },
  {
   "cell_type": "markdown",
   "metadata": {},
   "source": [
    "Variable\tDescription\n",
    "\n",
    "InvoiceNo\tCode representing each unique transaction. If this code starts with letter 'c', it indicates a cancellation.\n",
    "\n",
    "StockCode\tCode uniquely assigned to each distinct product.\n",
    "\n",
    "Description\tDescription of each product.\n",
    "\n",
    "Quantity\tThe number of units of a product in a transaction.\n",
    "\n",
    "InvoiceDate\tThe date and time of the transaction.\n",
    "\n",
    "UnitPrice\tThe unit price of the product in sterling.\n",
    "\n",
    "CustomerID\tIdentifier uniquely assigned to each customer.\n",
    "Country\tThe country of the customer."
   ]
  },
  {
   "cell_type": "code",
   "execution_count": 4,
   "metadata": {},
   "outputs": [
    {
     "name": "stdout",
     "output_type": "stream",
     "text": [
      "<class 'pandas.core.frame.DataFrame'>\n",
      "RangeIndex: 541909 entries, 0 to 541908\n",
      "Data columns (total 8 columns):\n",
      " #   Column       Non-Null Count   Dtype  \n",
      "---  ------       --------------   -----  \n",
      " 0   InvoiceNo    541909 non-null  object \n",
      " 1   StockCode    541909 non-null  object \n",
      " 2   Description  540455 non-null  object \n",
      " 3   Quantity     541909 non-null  int64  \n",
      " 4   InvoiceDate  541909 non-null  object \n",
      " 5   UnitPrice    541909 non-null  float64\n",
      " 6   CustomerID   406829 non-null  float64\n",
      " 7   Country      541909 non-null  object \n",
      "dtypes: float64(2), int64(1), object(5)\n",
      "memory usage: 33.1+ MB\n"
     ]
    }
   ],
   "source": [
    "df.info()"
   ]
  },
  {
   "cell_type": "code",
   "execution_count": 5,
   "metadata": {},
   "outputs": [
    {
     "data": {
      "text/html": [
       "<div>\n",
       "<style scoped>\n",
       "    .dataframe tbody tr th:only-of-type {\n",
       "        vertical-align: middle;\n",
       "    }\n",
       "\n",
       "    .dataframe tbody tr th {\n",
       "        vertical-align: top;\n",
       "    }\n",
       "\n",
       "    .dataframe thead th {\n",
       "        text-align: right;\n",
       "    }\n",
       "</style>\n",
       "<table border=\"1\" class=\"dataframe\">\n",
       "  <thead>\n",
       "    <tr style=\"text-align: right;\">\n",
       "      <th></th>\n",
       "      <th>Quantity</th>\n",
       "      <th>UnitPrice</th>\n",
       "      <th>CustomerID</th>\n",
       "    </tr>\n",
       "  </thead>\n",
       "  <tbody>\n",
       "    <tr>\n",
       "      <th>count</th>\n",
       "      <td>541909.000000</td>\n",
       "      <td>541909.000000</td>\n",
       "      <td>406829.000000</td>\n",
       "    </tr>\n",
       "    <tr>\n",
       "      <th>mean</th>\n",
       "      <td>9.552250</td>\n",
       "      <td>4.611114</td>\n",
       "      <td>15287.690570</td>\n",
       "    </tr>\n",
       "    <tr>\n",
       "      <th>std</th>\n",
       "      <td>218.081158</td>\n",
       "      <td>96.759853</td>\n",
       "      <td>1713.600303</td>\n",
       "    </tr>\n",
       "    <tr>\n",
       "      <th>min</th>\n",
       "      <td>-80995.000000</td>\n",
       "      <td>-11062.060000</td>\n",
       "      <td>12346.000000</td>\n",
       "    </tr>\n",
       "    <tr>\n",
       "      <th>25%</th>\n",
       "      <td>1.000000</td>\n",
       "      <td>1.250000</td>\n",
       "      <td>13953.000000</td>\n",
       "    </tr>\n",
       "    <tr>\n",
       "      <th>50%</th>\n",
       "      <td>3.000000</td>\n",
       "      <td>2.080000</td>\n",
       "      <td>15152.000000</td>\n",
       "    </tr>\n",
       "    <tr>\n",
       "      <th>75%</th>\n",
       "      <td>10.000000</td>\n",
       "      <td>4.130000</td>\n",
       "      <td>16791.000000</td>\n",
       "    </tr>\n",
       "    <tr>\n",
       "      <th>max</th>\n",
       "      <td>80995.000000</td>\n",
       "      <td>38970.000000</td>\n",
       "      <td>18287.000000</td>\n",
       "    </tr>\n",
       "  </tbody>\n",
       "</table>\n",
       "</div>"
      ],
      "text/plain": [
       "            Quantity      UnitPrice     CustomerID\n",
       "count  541909.000000  541909.000000  406829.000000\n",
       "mean        9.552250       4.611114   15287.690570\n",
       "std       218.081158      96.759853    1713.600303\n",
       "min    -80995.000000  -11062.060000   12346.000000\n",
       "25%         1.000000       1.250000   13953.000000\n",
       "50%         3.000000       2.080000   15152.000000\n",
       "75%        10.000000       4.130000   16791.000000\n",
       "max     80995.000000   38970.000000   18287.000000"
      ]
     },
     "execution_count": 5,
     "metadata": {},
     "output_type": "execute_result"
    }
   ],
   "source": [
    "df.describe()"
   ]
  },
  {
   "cell_type": "code",
   "execution_count": 6,
   "metadata": {},
   "outputs": [
    {
     "data": {
      "text/html": [
       "<div>\n",
       "<style scoped>\n",
       "    .dataframe tbody tr th:only-of-type {\n",
       "        vertical-align: middle;\n",
       "    }\n",
       "\n",
       "    .dataframe tbody tr th {\n",
       "        vertical-align: top;\n",
       "    }\n",
       "\n",
       "    .dataframe thead th {\n",
       "        text-align: right;\n",
       "    }\n",
       "</style>\n",
       "<table border=\"1\" class=\"dataframe\">\n",
       "  <thead>\n",
       "    <tr style=\"text-align: right;\">\n",
       "      <th></th>\n",
       "      <th>count</th>\n",
       "      <th>unique</th>\n",
       "      <th>top</th>\n",
       "      <th>freq</th>\n",
       "    </tr>\n",
       "  </thead>\n",
       "  <tbody>\n",
       "    <tr>\n",
       "      <th>InvoiceNo</th>\n",
       "      <td>541909</td>\n",
       "      <td>25900</td>\n",
       "      <td>573585</td>\n",
       "      <td>1114</td>\n",
       "    </tr>\n",
       "    <tr>\n",
       "      <th>StockCode</th>\n",
       "      <td>541909</td>\n",
       "      <td>4070</td>\n",
       "      <td>85123A</td>\n",
       "      <td>2313</td>\n",
       "    </tr>\n",
       "    <tr>\n",
       "      <th>Description</th>\n",
       "      <td>540455</td>\n",
       "      <td>4223</td>\n",
       "      <td>WHITE HANGING HEART T-LIGHT HOLDER</td>\n",
       "      <td>2369</td>\n",
       "    </tr>\n",
       "    <tr>\n",
       "      <th>InvoiceDate</th>\n",
       "      <td>541909</td>\n",
       "      <td>23260</td>\n",
       "      <td>10/31/2011 14:41</td>\n",
       "      <td>1114</td>\n",
       "    </tr>\n",
       "    <tr>\n",
       "      <th>Country</th>\n",
       "      <td>541909</td>\n",
       "      <td>38</td>\n",
       "      <td>United Kingdom</td>\n",
       "      <td>495478</td>\n",
       "    </tr>\n",
       "  </tbody>\n",
       "</table>\n",
       "</div>"
      ],
      "text/plain": [
       "              count unique                                 top    freq\n",
       "InvoiceNo    541909  25900                              573585    1114\n",
       "StockCode    541909   4070                              85123A    2313\n",
       "Description  540455   4223  WHITE HANGING HEART T-LIGHT HOLDER    2369\n",
       "InvoiceDate  541909  23260                    10/31/2011 14:41    1114\n",
       "Country      541909     38                      United Kingdom  495478"
      ]
     },
     "execution_count": 6,
     "metadata": {},
     "output_type": "execute_result"
    }
   ],
   "source": [
    "df.describe(include=\"object\").T"
   ]
  },
  {
   "cell_type": "markdown",
   "metadata": {},
   "source": [
    "Quantity:\n",
    "\n",
    "the average quantity of produccts in a transaction is 9.55 \n",
    "\n",
    "the quantity are wide range, with min of -80995 and a max of 80995. the negative value indicates returned or cancelled orders, which need to be handle appropriately \n",
    "\n",
    "the std is quite large, indicating a significant spread in data. the presence of outliers is indicated by a large differencce between in max and 75th percentile values.\n",
    "\n",
    "UnitPrice \n",
    "\n",
    "Avg unit price of the product is 4,6 rupees \n",
    "\n",
    "this unit price also shows the wide range from min of -11062.06 to 38970, which suggest the presence of error or noise in th data, because the negative value doesn't make sense.\n",
    "\n",
    "high std implies the presence of outliers, the large difference btw 75th percentile and max.\n",
    "\n",
    "Customer ID:\n",
    "\n",
    "there are 406829 non null values. \n",
    "\n",
    "the customer id ranges from 12346 to 18287, helping in identify unique customers \n",
    "\n",
    "Invoice No:\n",
    "\n",
    "it has 25900 unique number, indicating that many transaction are done \n",
    "\n",
    "the invoice number 573585 are apperaing 1114 times, Possibly indicating representing a largee transaction or an order with multiple items \n",
    "\n",
    "StockCode \n",
    "\n",
    "there are 541909 products in which 4070 are unique products and stockcode 85123A are top product with 2313 freq.\n",
    "\n",
    "Description \n",
    "\n",
    "there are 540455 description, which represents missing values in the dataset \n",
    "\n",
    "it has 4223 unique description,WHITE HANGING HEART T-LIGHT HOLDER as top description with 2369 freq\n",
    "\n",
    "InvoiceDate \n",
    "\n",
    "there are 541909 dates represents no missing values.\n",
    "\n",
    "23260 unique date represents numbers days transaction taken place.\n",
    "\n",
    "10/31/2011 14:41 has most transaction happended\n",
    "\n",
    "Country \n",
    "\n",
    "there are 541909 data repersents no missing value and 38 unique country uk being the majority of the transaction originated.\n",
    "\n",
    "\n"
   ]
  },
  {
   "cell_type": "code",
   "execution_count": 7,
   "metadata": {},
   "outputs": [
    {
     "data": {
      "text/plain": [
       "Text(0.5, 0, 'Percentage %')"
      ]
     },
     "execution_count": 7,
     "metadata": {},
     "output_type": "execute_result"
    },
    {
     "data": {
      "image/png": "[encoded data removed]",
      "text/plain": [
       "<Figure size 1500x400 with 1 Axes>"
      ]
     },
     "metadata": {},
     "output_type": "display_data"
    }
   ],
   "source": [
    "missing_data = df.isnull().sum()\n",
    "missing_percentage = (missing_data[missing_data > 0] / df.shape[0])*100\n",
    "\n",
    "missing_percentage.sort_values(ascending=True, inplace=True)\n",
    "\n",
    "fig, ax = plt.subplots(figsize=(15,4))\n",
    "\n",
    "ax.barh(missing_percentage.index, missing_percentage)\n",
    "# for i in range(len(missing_percentage)):\n",
    "#     value = missing_percentage[i]\n",
    "#     name = missing_percentage.index[i]\n",
    "\n",
    "ax.set_xlim([0,40]) #setting the limits\n",
    "\n",
    "plt.title(\"Percentage of missing values\", fontweight = \"bold\", fontsize=22)\n",
    "plt.xlabel(\"Percentage %\")\n",
    "\n"
   ]
  },
  {
   "cell_type": "markdown",
   "metadata": {},
   "source": [
    "Handling the missing values Strategy \n",
    "\n",
    "Customer Id ::::::\n",
    "\n",
    "the customer id column contains nearly a quater missing data. this column is essential for clustering customes and creating recommendation system, imputing such a large percentage of missing values might introduce significant bias or noise into the analysis \n",
    "\n",
    "since the clustering is based on customer behaviour and preferences, its curcial to have accurate data on customer identifiers, Therefore, removing the rows with missing Customer Id seems to be ost resonable approach to maintain intergity of the cluster and the analysis \n",
    "\n",
    "Description \n",
    "\n",
    "this column has minor percentage missing value. however it has been noticed that the inconsitencies in the data where the same stockcode does not always have the same description. this indicates data quality issued potential errors in the product descriptions \n",
    "\n",
    "Given this inconsistencies imputing the missing description based on stockcode might not be reliable moreover since the missing percentage is quite low it would be prudent to remove the rowd with missing description to avoid propagating errord and inconsitencies into the subsequent analyses \n",
    "\n",
    "\n"
   ]
  },
  {
   "cell_type": "code",
   "execution_count": 8,
   "metadata": {},
   "outputs": [
    {
     "data": {
      "text/html": [
       "<div>\n",
       "<style scoped>\n",
       "    .dataframe tbody tr th:only-of-type {\n",
       "        vertical-align: middle;\n",
       "    }\n",
       "\n",
       "    .dataframe tbody tr th {\n",
       "        vertical-align: top;\n",
       "    }\n",
       "\n",
       "    .dataframe thead th {\n",
       "        text-align: right;\n",
       "    }\n",
       "</style>\n",
       "<table border=\"1\" class=\"dataframe\">\n",
       "  <thead>\n",
       "    <tr style=\"text-align: right;\">\n",
       "      <th></th>\n",
       "      <th>InvoiceNo</th>\n",
       "      <th>StockCode</th>\n",
       "      <th>Description</th>\n",
       "      <th>Quantity</th>\n",
       "      <th>InvoiceDate</th>\n",
       "      <th>UnitPrice</th>\n",
       "      <th>CustomerID</th>\n",
       "      <th>Country</th>\n",
       "    </tr>\n",
       "  </thead>\n",
       "  <tbody>\n",
       "    <tr>\n",
       "      <th>622</th>\n",
       "      <td>536414</td>\n",
       "      <td>22139</td>\n",
       "      <td>NaN</td>\n",
       "      <td>56</td>\n",
       "      <td>12/1/2010 11:52</td>\n",
       "      <td>0.00</td>\n",
       "      <td>NaN</td>\n",
       "      <td>United Kingdom</td>\n",
       "    </tr>\n",
       "    <tr>\n",
       "      <th>1443</th>\n",
       "      <td>536544</td>\n",
       "      <td>21773</td>\n",
       "      <td>DECORATIVE ROSE BATHROOM BOTTLE</td>\n",
       "      <td>1</td>\n",
       "      <td>12/1/2010 14:32</td>\n",
       "      <td>2.51</td>\n",
       "      <td>NaN</td>\n",
       "      <td>United Kingdom</td>\n",
       "    </tr>\n",
       "    <tr>\n",
       "      <th>1444</th>\n",
       "      <td>536544</td>\n",
       "      <td>21774</td>\n",
       "      <td>DECORATIVE CATS BATHROOM BOTTLE</td>\n",
       "      <td>2</td>\n",
       "      <td>12/1/2010 14:32</td>\n",
       "      <td>2.51</td>\n",
       "      <td>NaN</td>\n",
       "      <td>United Kingdom</td>\n",
       "    </tr>\n",
       "    <tr>\n",
       "      <th>1445</th>\n",
       "      <td>536544</td>\n",
       "      <td>21786</td>\n",
       "      <td>POLKADOT RAIN HAT</td>\n",
       "      <td>4</td>\n",
       "      <td>12/1/2010 14:32</td>\n",
       "      <td>0.85</td>\n",
       "      <td>NaN</td>\n",
       "      <td>United Kingdom</td>\n",
       "    </tr>\n",
       "    <tr>\n",
       "      <th>1446</th>\n",
       "      <td>536544</td>\n",
       "      <td>21787</td>\n",
       "      <td>RAIN PONCHO RETROSPOT</td>\n",
       "      <td>2</td>\n",
       "      <td>12/1/2010 14:32</td>\n",
       "      <td>1.66</td>\n",
       "      <td>NaN</td>\n",
       "      <td>United Kingdom</td>\n",
       "    </tr>\n",
       "  </tbody>\n",
       "</table>\n",
       "</div>"
      ],
      "text/plain": [
       "     InvoiceNo StockCode                      Description  Quantity  \\\n",
       "622     536414     22139                              NaN        56   \n",
       "1443    536544     21773  DECORATIVE ROSE BATHROOM BOTTLE         1   \n",
       "1444    536544     21774  DECORATIVE CATS BATHROOM BOTTLE         2   \n",
       "1445    536544     21786               POLKADOT RAIN HAT          4   \n",
       "1446    536544     21787            RAIN PONCHO RETROSPOT         2   \n",
       "\n",
       "          InvoiceDate  UnitPrice  CustomerID         Country  \n",
       "622   12/1/2010 11:52       0.00         NaN  United Kingdom  \n",
       "1443  12/1/2010 14:32       2.51         NaN  United Kingdom  \n",
       "1444  12/1/2010 14:32       2.51         NaN  United Kingdom  \n",
       "1445  12/1/2010 14:32       0.85         NaN  United Kingdom  \n",
       "1446  12/1/2010 14:32       1.66         NaN  United Kingdom  "
      ]
     },
     "execution_count": 8,
     "metadata": {},
     "output_type": "execute_result"
    }
   ],
   "source": [
    "df[df[\"CustomerID\"].isnull() | df[\"Description\"].isnull()].head()"
   ]
  },
  {
   "cell_type": "code",
   "execution_count": 9,
   "metadata": {},
   "outputs": [],
   "source": [
    "df1 = df.dropna(subset=[\"Description\", \"CustomerID\"])"
   ]
  },
  {
   "cell_type": "code",
   "execution_count": 10,
   "metadata": {},
   "outputs": [
    {
     "data": {
      "text/plain": [
       "InvoiceNo      0\n",
       "StockCode      0\n",
       "Description    0\n",
       "Quantity       0\n",
       "InvoiceDate    0\n",
       "UnitPrice      0\n",
       "CustomerID     0\n",
       "Country        0\n",
       "dtype: int64"
      ]
     },
     "execution_count": 10,
     "metadata": {},
     "output_type": "execute_result"
    }
   ],
   "source": [
    "df1.isnull().sum()"
   ]
  },
  {
   "cell_type": "code",
   "execution_count": 11,
   "metadata": {},
   "outputs": [
    {
     "data": {
      "text/html": [
       "<div>\n",
       "<style scoped>\n",
       "    .dataframe tbody tr th:only-of-type {\n",
       "        vertical-align: middle;\n",
       "    }\n",
       "\n",
       "    .dataframe tbody tr th {\n",
       "        vertical-align: top;\n",
       "    }\n",
       "\n",
       "    .dataframe thead th {\n",
       "        text-align: right;\n",
       "    }\n",
       "</style>\n",
       "<table border=\"1\" class=\"dataframe\">\n",
       "  <thead>\n",
       "    <tr style=\"text-align: right;\">\n",
       "      <th></th>\n",
       "      <th>InvoiceNo</th>\n",
       "      <th>StockCode</th>\n",
       "      <th>Description</th>\n",
       "      <th>Quantity</th>\n",
       "      <th>InvoiceDate</th>\n",
       "      <th>UnitPrice</th>\n",
       "      <th>CustomerID</th>\n",
       "      <th>Country</th>\n",
       "    </tr>\n",
       "  </thead>\n",
       "  <tbody>\n",
       "    <tr>\n",
       "      <th>494</th>\n",
       "      <td>536409</td>\n",
       "      <td>21866</td>\n",
       "      <td>UNION JACK FLAG LUGGAGE TAG</td>\n",
       "      <td>1</td>\n",
       "      <td>12/1/2010 11:45</td>\n",
       "      <td>1.25</td>\n",
       "      <td>17908.0</td>\n",
       "      <td>United Kingdom</td>\n",
       "    </tr>\n",
       "    <tr>\n",
       "      <th>517</th>\n",
       "      <td>536409</td>\n",
       "      <td>21866</td>\n",
       "      <td>UNION JACK FLAG LUGGAGE TAG</td>\n",
       "      <td>1</td>\n",
       "      <td>12/1/2010 11:45</td>\n",
       "      <td>1.25</td>\n",
       "      <td>17908.0</td>\n",
       "      <td>United Kingdom</td>\n",
       "    </tr>\n",
       "    <tr>\n",
       "      <th>485</th>\n",
       "      <td>536409</td>\n",
       "      <td>22111</td>\n",
       "      <td>SCOTTIE DOG HOT WATER BOTTLE</td>\n",
       "      <td>1</td>\n",
       "      <td>12/1/2010 11:45</td>\n",
       "      <td>4.95</td>\n",
       "      <td>17908.0</td>\n",
       "      <td>United Kingdom</td>\n",
       "    </tr>\n",
       "    <tr>\n",
       "      <th>539</th>\n",
       "      <td>536409</td>\n",
       "      <td>22111</td>\n",
       "      <td>SCOTTIE DOG HOT WATER BOTTLE</td>\n",
       "      <td>1</td>\n",
       "      <td>12/1/2010 11:45</td>\n",
       "      <td>4.95</td>\n",
       "      <td>17908.0</td>\n",
       "      <td>United Kingdom</td>\n",
       "    </tr>\n",
       "    <tr>\n",
       "      <th>489</th>\n",
       "      <td>536409</td>\n",
       "      <td>22866</td>\n",
       "      <td>HAND WARMER SCOTTY DOG DESIGN</td>\n",
       "      <td>1</td>\n",
       "      <td>12/1/2010 11:45</td>\n",
       "      <td>2.10</td>\n",
       "      <td>17908.0</td>\n",
       "      <td>United Kingdom</td>\n",
       "    </tr>\n",
       "  </tbody>\n",
       "</table>\n",
       "</div>"
      ],
      "text/plain": [
       "    InvoiceNo StockCode                    Description  Quantity  \\\n",
       "494    536409     21866    UNION JACK FLAG LUGGAGE TAG         1   \n",
       "517    536409     21866    UNION JACK FLAG LUGGAGE TAG         1   \n",
       "485    536409     22111   SCOTTIE DOG HOT WATER BOTTLE         1   \n",
       "539    536409     22111   SCOTTIE DOG HOT WATER BOTTLE         1   \n",
       "489    536409     22866  HAND WARMER SCOTTY DOG DESIGN         1   \n",
       "\n",
       "         InvoiceDate  UnitPrice  CustomerID         Country  \n",
       "494  12/1/2010 11:45       1.25     17908.0  United Kingdom  \n",
       "517  12/1/2010 11:45       1.25     17908.0  United Kingdom  \n",
       "485  12/1/2010 11:45       4.95     17908.0  United Kingdom  \n",
       "539  12/1/2010 11:45       4.95     17908.0  United Kingdom  \n",
       "489  12/1/2010 11:45       2.10     17908.0  United Kingdom  "
      ]
     },
     "execution_count": 11,
     "metadata": {},
     "output_type": "execute_result"
    }
   ],
   "source": [
    "duplicate_rows = df[df.duplicated(keep=False)]\n",
    "\n",
    "duplicate_rows_sorted = duplicate_rows.sort_values(by=[\"InvoiceNo\", \"StockCode\", \"Description\", \"CustomerID\", \"Quantity\"])\n",
    "\n",
    "duplicate_rows_sorted.head(5)"
   ]
  },
  {
   "cell_type": "markdown",
   "metadata": {},
   "source": [
    "Handling Duplicate strategy \n",
    "\n",
    "presence of completely identical rows including identical transaction times suggest that these might be data recording errors rather than genuine repetated transaction, keeping those duplicate rows can introduce noise and potential inaccuracies in the clustering and recommendation system.\n",
    "\n",
    "Therefore, we are going to remove these completely identical duplicate rows from the dataset. \n",
    "\n",
    "Removing this data will help in achieving a cleaner dataset, which in trun would aid in building more accurate customer cluster based on their uniqye purchasing behaviours. Moreover it would help in creating a more precise recommendation system by correctly identifying the products with most purcahse.\n",
    "\n"
   ]
  },
  {
   "cell_type": "code",
   "execution_count": 12,
   "metadata": {},
   "outputs": [
    {
     "data": {
      "text/plain": [
       "5225"
      ]
     },
     "execution_count": 12,
     "metadata": {},
     "output_type": "execute_result"
    }
   ],
   "source": [
    "df1.duplicated().sum()"
   ]
  },
  {
   "cell_type": "code",
   "execution_count": 13,
   "metadata": {},
   "outputs": [
    {
     "name": "stderr",
     "output_type": "stream",
     "text": [
      "C:\\Users\\vishw\\AppData\\Local\\Temp\\ipykernel_20408\\4156330626.py:1: SettingWithCopyWarning: \n",
      "A value is trying to be set on a copy of a slice from a DataFrame\n",
      "\n",
      "See the caveats in the documentation: https://pandas.pydata.org/pandas-docs/stable/user_guide/indexing.html#returning-a-view-versus-a-copy\n",
      "  df1.drop_duplicates(inplace=True)\n"
     ]
    }
   ],
   "source": [
    "df1.drop_duplicates(inplace=True)"
   ]
  },
  {
   "cell_type": "code",
   "execution_count": 14,
   "metadata": {},
   "outputs": [
    {
     "data": {
      "text/plain": [
       "(401604, 8)"
      ]
     },
     "execution_count": 14,
     "metadata": {},
     "output_type": "execute_result"
    }
   ],
   "source": [
    "df1.shape"
   ]
  },
  {
   "cell_type": "markdown",
   "metadata": {},
   "source": [
    "Treating Cancelled Transaction \n",
    "\n",
    "we create new column called Transaction_satus, where InvoiceNo starts with C assign with cancelled transaction otherwise call completed transaction. \n",
    "Subsequently we will analyz these rows to understand their common characteristics or patterns\n",
    "\n"
   ]
  },
  {
   "cell_type": "code",
   "execution_count": 15,
   "metadata": {},
   "outputs": [
    {
     "name": "stderr",
     "output_type": "stream",
     "text": [
      "C:\\Users\\vishw\\AppData\\Local\\Temp\\ipykernel_20408\\839449464.py:1: SettingWithCopyWarning: \n",
      "A value is trying to be set on a copy of a slice from a DataFrame.\n",
      "Try using .loc[row_indexer,col_indexer] = value instead\n",
      "\n",
      "See the caveats in the documentation: https://pandas.pydata.org/pandas-docs/stable/user_guide/indexing.html#returning-a-view-versus-a-copy\n",
      "  df1[\"Transaction_Status\"] = np.where(df1[\"InvoiceNo\"]. astype(str).str.startswith(\"C\"), \"Cancelled\", \"Completed\")\n"
     ]
    },
    {
     "data": {
      "text/html": [
       "<div>\n",
       "<style scoped>\n",
       "    .dataframe tbody tr th:only-of-type {\n",
       "        vertical-align: middle;\n",
       "    }\n",
       "\n",
       "    .dataframe tbody tr th {\n",
       "        vertical-align: top;\n",
       "    }\n",
       "\n",
       "    .dataframe thead th {\n",
       "        text-align: right;\n",
       "    }\n",
       "</style>\n",
       "<table border=\"1\" class=\"dataframe\">\n",
       "  <thead>\n",
       "    <tr style=\"text-align: right;\">\n",
       "      <th></th>\n",
       "      <th>Quantity</th>\n",
       "      <th>UnitPrice</th>\n",
       "    </tr>\n",
       "  </thead>\n",
       "  <tbody>\n",
       "    <tr>\n",
       "      <th>count</th>\n",
       "      <td>8872.000000</td>\n",
       "      <td>8872.000000</td>\n",
       "    </tr>\n",
       "    <tr>\n",
       "      <th>mean</th>\n",
       "      <td>-30.774910</td>\n",
       "      <td>18.899512</td>\n",
       "    </tr>\n",
       "    <tr>\n",
       "      <th>std</th>\n",
       "      <td>1172.249902</td>\n",
       "      <td>445.190864</td>\n",
       "    </tr>\n",
       "    <tr>\n",
       "      <th>min</th>\n",
       "      <td>-80995.000000</td>\n",
       "      <td>0.010000</td>\n",
       "    </tr>\n",
       "    <tr>\n",
       "      <th>25%</th>\n",
       "      <td>-6.000000</td>\n",
       "      <td>1.450000</td>\n",
       "    </tr>\n",
       "    <tr>\n",
       "      <th>50%</th>\n",
       "      <td>-2.000000</td>\n",
       "      <td>2.950000</td>\n",
       "    </tr>\n",
       "    <tr>\n",
       "      <th>75%</th>\n",
       "      <td>-1.000000</td>\n",
       "      <td>4.950000</td>\n",
       "    </tr>\n",
       "    <tr>\n",
       "      <th>max</th>\n",
       "      <td>-1.000000</td>\n",
       "      <td>38970.000000</td>\n",
       "    </tr>\n",
       "  </tbody>\n",
       "</table>\n",
       "</div>"
      ],
      "text/plain": [
       "           Quantity     UnitPrice\n",
       "count   8872.000000   8872.000000\n",
       "mean     -30.774910     18.899512\n",
       "std     1172.249902    445.190864\n",
       "min   -80995.000000      0.010000\n",
       "25%       -6.000000      1.450000\n",
       "50%       -2.000000      2.950000\n",
       "75%       -1.000000      4.950000\n",
       "max       -1.000000  38970.000000"
      ]
     },
     "execution_count": 15,
     "metadata": {},
     "output_type": "execute_result"
    }
   ],
   "source": [
    "df1[\"Transaction_Status\"] = np.where(df1[\"InvoiceNo\"]. astype(str).str.startswith(\"C\"), \"Cancelled\", \"Completed\")\n",
    "df1[\"Transaction_Status\"].head(5)\n",
    "cancelled_transaction = df1[df1[\"Transaction_Status\"] == \"Cancelled\"]\n",
    "\n",
    "cancelled_transaction.describe().drop(\"CustomerID\", axis=1)\n"
   ]
  },
  {
   "cell_type": "markdown",
   "metadata": {},
   "source": [
    "\n",
    "All quantities in the cancelled transaction are negative indicating that these order that were cancelled \n",
    "\n",
    "the unit price has wide range, showing that a variety products from high to low were part of the cancelled products \n",
    "\n"
   ]
  },
  {
   "cell_type": "code",
   "execution_count": 16,
   "metadata": {},
   "outputs": [
    {
     "data": {
      "text/html": [
       "<div>\n",
       "<style scoped>\n",
       "    .dataframe tbody tr th:only-of-type {\n",
       "        vertical-align: middle;\n",
       "    }\n",
       "\n",
       "    .dataframe tbody tr th {\n",
       "        vertical-align: top;\n",
       "    }\n",
       "\n",
       "    .dataframe thead th {\n",
       "        text-align: right;\n",
       "    }\n",
       "</style>\n",
       "<table border=\"1\" class=\"dataframe\">\n",
       "  <thead>\n",
       "    <tr style=\"text-align: right;\">\n",
       "      <th></th>\n",
       "      <th>InvoiceNo</th>\n",
       "      <th>StockCode</th>\n",
       "      <th>Description</th>\n",
       "      <th>Quantity</th>\n",
       "      <th>InvoiceDate</th>\n",
       "      <th>UnitPrice</th>\n",
       "      <th>CustomerID</th>\n",
       "      <th>Country</th>\n",
       "      <th>Transaction_Status</th>\n",
       "    </tr>\n",
       "  </thead>\n",
       "  <tbody>\n",
       "    <tr>\n",
       "      <th>0</th>\n",
       "      <td>536365</td>\n",
       "      <td>85123A</td>\n",
       "      <td>WHITE HANGING HEART T-LIGHT HOLDER</td>\n",
       "      <td>6</td>\n",
       "      <td>12/1/2010 8:26</td>\n",
       "      <td>2.55</td>\n",
       "      <td>17850.0</td>\n",
       "      <td>United Kingdom</td>\n",
       "      <td>Completed</td>\n",
       "    </tr>\n",
       "    <tr>\n",
       "      <th>1</th>\n",
       "      <td>536365</td>\n",
       "      <td>71053</td>\n",
       "      <td>WHITE METAL LANTERN</td>\n",
       "      <td>6</td>\n",
       "      <td>12/1/2010 8:26</td>\n",
       "      <td>3.39</td>\n",
       "      <td>17850.0</td>\n",
       "      <td>United Kingdom</td>\n",
       "      <td>Completed</td>\n",
       "    </tr>\n",
       "    <tr>\n",
       "      <th>2</th>\n",
       "      <td>536365</td>\n",
       "      <td>84406B</td>\n",
       "      <td>CREAM CUPID HEARTS COAT HANGER</td>\n",
       "      <td>8</td>\n",
       "      <td>12/1/2010 8:26</td>\n",
       "      <td>2.75</td>\n",
       "      <td>17850.0</td>\n",
       "      <td>United Kingdom</td>\n",
       "      <td>Completed</td>\n",
       "    </tr>\n",
       "    <tr>\n",
       "      <th>3</th>\n",
       "      <td>536365</td>\n",
       "      <td>84029G</td>\n",
       "      <td>KNITTED UNION FLAG HOT WATER BOTTLE</td>\n",
       "      <td>6</td>\n",
       "      <td>12/1/2010 8:26</td>\n",
       "      <td>3.39</td>\n",
       "      <td>17850.0</td>\n",
       "      <td>United Kingdom</td>\n",
       "      <td>Completed</td>\n",
       "    </tr>\n",
       "    <tr>\n",
       "      <th>4</th>\n",
       "      <td>536365</td>\n",
       "      <td>84029E</td>\n",
       "      <td>RED WOOLLY HOTTIE WHITE HEART.</td>\n",
       "      <td>6</td>\n",
       "      <td>12/1/2010 8:26</td>\n",
       "      <td>3.39</td>\n",
       "      <td>17850.0</td>\n",
       "      <td>United Kingdom</td>\n",
       "      <td>Completed</td>\n",
       "    </tr>\n",
       "  </tbody>\n",
       "</table>\n",
       "</div>"
      ],
      "text/plain": [
       "  InvoiceNo StockCode                          Description  Quantity  \\\n",
       "0    536365    85123A   WHITE HANGING HEART T-LIGHT HOLDER         6   \n",
       "1    536365     71053                  WHITE METAL LANTERN         6   \n",
       "2    536365    84406B       CREAM CUPID HEARTS COAT HANGER         8   \n",
       "3    536365    84029G  KNITTED UNION FLAG HOT WATER BOTTLE         6   \n",
       "4    536365    84029E       RED WOOLLY HOTTIE WHITE HEART.         6   \n",
       "\n",
       "      InvoiceDate  UnitPrice  CustomerID         Country Transaction_Status  \n",
       "0  12/1/2010 8:26       2.55     17850.0  United Kingdom          Completed  \n",
       "1  12/1/2010 8:26       3.39     17850.0  United Kingdom          Completed  \n",
       "2  12/1/2010 8:26       2.75     17850.0  United Kingdom          Completed  \n",
       "3  12/1/2010 8:26       3.39     17850.0  United Kingdom          Completed  \n",
       "4  12/1/2010 8:26       3.39     17850.0  United Kingdom          Completed  "
      ]
     },
     "execution_count": 16,
     "metadata": {},
     "output_type": "execute_result"
    }
   ],
   "source": [
    "df1.head(5)"
   ]
  },
  {
   "cell_type": "markdown",
   "metadata": {},
   "source": [
    "strategy for handling cancelled transaction \n",
    "\n",
    "by project objective customer cluster based on their purchasing behaviour and preferences and to eventually create recommendation system. its essential to study customer cancellation pattern. Therefore the strategy is to retain these cancellation tranasction in the dataset, marking them distinctly to facilate further analysis\n",
    "\n",
    "improve the clustering process by incorporating patterns and trends observed in cancellation data, which miight represents certain customer behaviour or preferences \n",
    "\n",
    "Allow the recommendation system to possibly prevent suggesting products that have highly likelihood of being cancelled, thereby improving the quality of recommendation ."
   ]
  },
  {
   "cell_type": "code",
   "execution_count": 17,
   "metadata": {},
   "outputs": [
    {
     "data": {
      "text/plain": [
       "2.209141343213713"
      ]
     },
     "execution_count": 17,
     "metadata": {},
     "output_type": "execute_result"
    }
   ],
   "source": [
    "cancelled_percentage = (cancelled_transaction.shape[0] / df1.shape[0] )*100\n",
    "\n",
    "cancelled_percentage"
   ]
  },
  {
   "cell_type": "code",
   "execution_count": 18,
   "metadata": {},
   "outputs": [
    {
     "data": {
      "text/plain": [
       "array(['85123A', '71053', '84406B', ..., '90214Z', '90089', '23843'],\n",
       "      dtype=object)"
      ]
     },
     "execution_count": 18,
     "metadata": {},
     "output_type": "execute_result"
    }
   ],
   "source": [
    "unique_stock_codes = df1[\"StockCode\"].unique()\n",
    "\n",
    "\n",
    "unique_stock_codes"
   ]
  },
  {
   "cell_type": "code",
   "execution_count": 19,
   "metadata": {},
   "outputs": [
    {
     "data": {
      "image/png": "[encoded data removed]",
      "text/plain": [
       "<Figure size 1200x500 with 1 Axes>"
      ]
     },
     "metadata": {},
     "output_type": "display_data"
    },
    {
     "data": {
      "text/plain": [
       "StockCode\n",
       "85123A    0.514188\n",
       "22423     0.471609\n",
       "85099B    0.413093\n",
       "47566     0.350843\n",
       "84879     0.349847\n",
       "20725     0.335156\n",
       "22720     0.304778\n",
       "POST      0.297806\n",
       "22197     0.276392\n",
       "23203     0.275894\n",
       "Name: proportion, dtype: float64"
      ]
     },
     "execution_count": 19,
     "metadata": {},
     "output_type": "execute_result"
    }
   ],
   "source": [
    "top_10_stock_codes = df1[\"StockCode\"].value_counts(normalize=True).head(10)*100\n",
    "\n",
    "plt.figure(figsize=(12,5))\n",
    "top_10_stock_codes.plot(kind=\"barh\")\n",
    "\n",
    "index = 0\n",
    "\n",
    "for i in range(len(top_10_stock_codes)):\n",
    "    index = i\n",
    "    value = top_10_stock_codes[i]\n",
    "    plt.text(value, index, f'{value:.2f}%', fontsize=10 )\n",
    "\n",
    "plt.title(\"Top 10 Most Frequent Stock Codes  \")\n",
    "plt.xlabel(\"Percentage Frequency (%)\")\n",
    "plt.ylabel(\"StockCode\")\n",
    "plt.gca().invert_yaxis()\n",
    "plt.show()\n",
    "top_10_stock_codes\n"
   ]
  },
  {
   "cell_type": "markdown",
   "metadata": {},
   "source": [
    "inference on stockcode \n",
    "\n",
    "Product variety: \n",
    "the dataset contains 3684 unique stockcodes indicating a substantial variety of products available in the online retail store. the diversity can potential lead to the identification of distinct customer clusters, with preference for different types of product \n",
    "\n",
    "Popular items:\n",
    "\n",
    "A closer look at the top 10 most frequent stock code can offers insights into the popular products or categories that are frequently purchased by customer \n",
    "\n",
    "Stock Code Anomalies \n",
    "\n",
    "Here we obsereve that while most stock codes are composed of 5 to 6 characters there are some anamolies like the code \"POST\". These anamolies might represents services or non-product transaction (perhaps postage fees) rather than actual products. To maintain the focus of the project which is clustering based on product purchase and creating a recommendatio nsystem these anamolies should be further investigated and possibly related appropriately to ansure data intergity. "
   ]
  },
  {
   "cell_type": "markdown",
   "metadata": {},
   "source": [
    "to understand deper into identifying these anamolies. we explore the frequenct of the umber of numeric characters in the stock code, which can provide insights into the nature of these unusual entries."
   ]
  },
  {
   "cell_type": "code",
   "execution_count": 20,
   "metadata": {},
   "outputs": [
    {
     "data": {
      "text/html": [
       "<div>\n",
       "<style scoped>\n",
       "    .dataframe tbody tr th:only-of-type {\n",
       "        vertical-align: middle;\n",
       "    }\n",
       "\n",
       "    .dataframe tbody tr th {\n",
       "        vertical-align: top;\n",
       "    }\n",
       "\n",
       "    .dataframe thead th {\n",
       "        text-align: right;\n",
       "    }\n",
       "</style>\n",
       "<table border=\"1\" class=\"dataframe\">\n",
       "  <thead>\n",
       "    <tr style=\"text-align: right;\">\n",
       "      <th></th>\n",
       "      <th>InvoiceNo</th>\n",
       "      <th>StockCode</th>\n",
       "      <th>Description</th>\n",
       "      <th>Quantity</th>\n",
       "      <th>InvoiceDate</th>\n",
       "      <th>UnitPrice</th>\n",
       "      <th>CustomerID</th>\n",
       "      <th>Country</th>\n",
       "      <th>Transaction_Status</th>\n",
       "    </tr>\n",
       "  </thead>\n",
       "  <tbody>\n",
       "    <tr>\n",
       "      <th>45</th>\n",
       "      <td>536370</td>\n",
       "      <td>POST</td>\n",
       "      <td>POSTAGE</td>\n",
       "      <td>3</td>\n",
       "      <td>12/1/2010 8:45</td>\n",
       "      <td>18.0</td>\n",
       "      <td>12583.0</td>\n",
       "      <td>France</td>\n",
       "      <td>Completed</td>\n",
       "    </tr>\n",
       "    <tr>\n",
       "      <th>386</th>\n",
       "      <td>536403</td>\n",
       "      <td>POST</td>\n",
       "      <td>POSTAGE</td>\n",
       "      <td>1</td>\n",
       "      <td>12/1/2010 11:27</td>\n",
       "      <td>15.0</td>\n",
       "      <td>12791.0</td>\n",
       "      <td>Netherlands</td>\n",
       "      <td>Completed</td>\n",
       "    </tr>\n",
       "    <tr>\n",
       "      <th>1123</th>\n",
       "      <td>536527</td>\n",
       "      <td>POST</td>\n",
       "      <td>POSTAGE</td>\n",
       "      <td>1</td>\n",
       "      <td>12/1/2010 13:04</td>\n",
       "      <td>18.0</td>\n",
       "      <td>12662.0</td>\n",
       "      <td>Germany</td>\n",
       "      <td>Completed</td>\n",
       "    </tr>\n",
       "    <tr>\n",
       "      <th>5073</th>\n",
       "      <td>536840</td>\n",
       "      <td>POST</td>\n",
       "      <td>POSTAGE</td>\n",
       "      <td>1</td>\n",
       "      <td>12/2/2010 18:27</td>\n",
       "      <td>18.0</td>\n",
       "      <td>12738.0</td>\n",
       "      <td>Germany</td>\n",
       "      <td>Completed</td>\n",
       "    </tr>\n",
       "    <tr>\n",
       "      <th>5258</th>\n",
       "      <td>536852</td>\n",
       "      <td>POST</td>\n",
       "      <td>POSTAGE</td>\n",
       "      <td>1</td>\n",
       "      <td>12/3/2010 9:51</td>\n",
       "      <td>18.0</td>\n",
       "      <td>12686.0</td>\n",
       "      <td>France</td>\n",
       "      <td>Completed</td>\n",
       "    </tr>\n",
       "  </tbody>\n",
       "</table>\n",
       "</div>"
      ],
      "text/plain": [
       "     InvoiceNo StockCode Description  Quantity      InvoiceDate  UnitPrice  \\\n",
       "45      536370      POST     POSTAGE         3   12/1/2010 8:45       18.0   \n",
       "386     536403      POST     POSTAGE         1  12/1/2010 11:27       15.0   \n",
       "1123    536527      POST     POSTAGE         1  12/1/2010 13:04       18.0   \n",
       "5073    536840      POST     POSTAGE         1  12/2/2010 18:27       18.0   \n",
       "5258    536852      POST     POSTAGE         1   12/3/2010 9:51       18.0   \n",
       "\n",
       "      CustomerID      Country Transaction_Status  \n",
       "45       12583.0       France          Completed  \n",
       "386      12791.0  Netherlands          Completed  \n",
       "1123     12662.0      Germany          Completed  \n",
       "5073     12738.0      Germany          Completed  \n",
       "5258     12686.0       France          Completed  "
      ]
     },
     "execution_count": 20,
     "metadata": {},
     "output_type": "execute_result"
    }
   ],
   "source": [
    "df1[df1[\"StockCode\"] == \"POST\"].head(5)"
   ]
  },
  {
   "cell_type": "code",
   "execution_count": 21,
   "metadata": {},
   "outputs": [
    {
     "data": {
      "text/plain": [
       "array(['85123A', '71053', '84406B', ..., '90214Z', '90089', '23843'],\n",
       "      dtype=object)"
      ]
     },
     "execution_count": 21,
     "metadata": {},
     "output_type": "execute_result"
    }
   ],
   "source": [
    "unique_stock_codes"
   ]
  },
  {
   "cell_type": "code",
   "execution_count": 22,
   "metadata": {},
   "outputs": [
    {
     "name": "stdout",
     "output_type": "stream",
     "text": [
      "Value counts of numeric character frequencies in unique stock code\n",
      "5    3676\n",
      "0       7\n",
      "1       1\n",
      "Name: count, dtype: int64\n"
     ]
    }
   ],
   "source": [
    "numeric_char_counts_in_unique_codes = pd.Series(unique_stock_codes).apply(lambda x:sum(c.isdigit() for c in str(x))).value_counts()\n",
    "\n",
    "print(\"Value counts of numeric character frequencies in unique stock code\")\n",
    "print(numeric_char_counts_in_unique_codes)"
   ]
  },
  {
   "cell_type": "markdown",
   "metadata": {},
   "source": [
    "inference from output \n",
    "\n",
    "majority of unique stock code contain exactly 5 numeric characters which seems to br standard format for representing product code in dataset \n",
    "\n",
    "there are few anamolies 7 stock codes contains no numeric characters and 1 stock code contains only one numeric character, these are clearly deviating from the standard format and need further understanding to understanf their nature and whether they represents valid product transacction \n",
    "\n",
    "now we identify the stock code contains 0 or 1 numeric characters to further understand these anamolies \n",
    "\n",
    "\n",
    "\n"
   ]
  },
  {
   "cell_type": "code",
   "execution_count": 23,
   "metadata": {},
   "outputs": [
    {
     "name": "stdout",
     "output_type": "stream",
     "text": [
      "Anamalous Stock Code\n",
      "POST\n",
      "D\n",
      "C2\n",
      "M\n",
      "BANK CHARGES\n",
      "PADS\n",
      "DOT\n",
      "CRUK\n"
     ]
    }
   ],
   "source": [
    "anamalous_stock_codes = [code for code in unique_stock_codes if sum(c.isdigit() for c in str(code)) in (0,1)]\n",
    "\n",
    "print(\"Anamalous Stock Code\")\n",
    "for code in anamalous_stock_codes:\n",
    "    print(code)"
   ]
  },
  {
   "cell_type": "code",
   "execution_count": 24,
   "metadata": {},
   "outputs": [
    {
     "name": "stdout",
     "output_type": "stream",
     "text": [
      "percentage of anomalous stockcode \n",
      "0.4768378801007958\n"
     ]
    }
   ],
   "source": [
    "# CALCULATING PERCENTAGE OF THESE ANAMOLIES \n",
    "\n",
    "percentage_anomalous = (df1[\"StockCode\"].isin(anamalous_stock_codes).sum()/len(df1))*100\n",
    "\n",
    "print(\"percentage of anomalous stockcode \")\n",
    "print(percentage_anomalous)"
   ]
  },
  {
   "cell_type": "markdown",
   "metadata": {},
   "source": [
    "form the percentage of anomalous stockcode 0.48% we observe these code small in number \n",
    "\n",
    "these code seems to represent non-product transaction like bank charges , post etc since these are not actuall products and very small in proportion of dataset, this might introduce the noise in clustering and recomendation system\n",
    "\n",
    "since the context of the project which aims to customer cluster based on product we remove the anomalous stockcode which are not a genuine product.\n",
    "\n",
    "we remove these anomalous stockcode from the dataset \n"
   ]
  },
  {
   "cell_type": "code",
   "execution_count": 25,
   "metadata": {},
   "outputs": [
    {
     "data": {
      "text/plain": [
       "(399689, 9)"
      ]
     },
     "execution_count": 25,
     "metadata": {},
     "output_type": "execute_result"
    }
   ],
   "source": [
    "df1 = df1[~df1[\"StockCode\"].isin(anamalous_stock_codes)]\n",
    "df1.shape"
   ]
  },
  {
   "cell_type": "markdown",
   "metadata": {},
   "source": [
    "Cleaning Description column \n",
    "\n",
    "count unique description \n",
    "\n",
    "plot top 10 \n"
   ]
  },
  {
   "cell_type": "code",
   "execution_count": 26,
   "metadata": {},
   "outputs": [
    {
     "data": {
      "text/plain": [
       "Description\n",
       "WHITE HANGING HEART T-LIGHT HOLDER    2058\n",
       "REGENCY CAKESTAND 3 TIER              1894\n",
       "JUMBO BAG RED RETROSPOT               1659\n",
       "PARTY BUNTING                         1409\n",
       "ASSORTED COLOUR BIRD ORNAMENT         1405\n",
       "                                      ... \n",
       "FRYING PAN RED POLKADOT                  1\n",
       "PEG BAG APPLE DESIGN                     1\n",
       "PINK POLKADOT KIDS BAG                   1\n",
       "BLACK DIAMOND CLUSTER NECKLACE           1\n",
       "SET 12 COLOURING PENCILS DOILEY          1\n",
       "Name: count, Length: 3888, dtype: int64"
      ]
     },
     "execution_count": 26,
     "metadata": {},
     "output_type": "execute_result"
    }
   ],
   "source": [
    "descrption_counts = df1[\"Description\"].value_counts()\n",
    "descrption_counts"
   ]
  },
  {
   "cell_type": "code",
   "execution_count": 27,
   "metadata": {},
   "outputs": [
    {
     "data": {
      "text/plain": [
       "3676"
      ]
     },
     "execution_count": 27,
     "metadata": {},
     "output_type": "execute_result"
    }
   ],
   "source": [
    "a = df1[\"StockCode\"].nunique()\n",
    "a"
   ]
  },
  {
   "cell_type": "code",
   "execution_count": 28,
   "metadata": {},
   "outputs": [
    {
     "data": {
      "text/plain": [
       "3888"
      ]
     },
     "execution_count": 28,
     "metadata": {},
     "output_type": "execute_result"
    }
   ],
   "source": [
    "b = df1[\"Description\"].nunique()\n",
    "b"
   ]
  },
  {
   "cell_type": "code",
   "execution_count": 29,
   "metadata": {},
   "outputs": [
    {
     "data": {
      "image/png": "[encoded data removed]",
      "text/plain": [
       "<Figure size 1200x1000 with 1 Axes>"
      ]
     },
     "metadata": {},
     "output_type": "display_data"
    }
   ],
   "source": [
    "top_30_description = descrption_counts[:30]\n",
    "\n",
    "plt.figure(figsize=(12,10))\n",
    "top_30_description.plot(kind='barh')\n",
    "\n",
    "plt.title(\"top 30 description counts\")\n",
    "plt.xlabel(\"description counts\")\n",
    "plt.ylabel(\"description\")\n",
    "\n",
    "plt.gca().invert_yaxis()\n",
    "plt.show()"
   ]
  },
  {
   "cell_type": "markdown",
   "metadata": {},
   "source": [
    "Here all descriptions are in uppercase, which might be the standard format . however consider the inconsitencies and anomalies we check for any lowercase description, or any mix style description."
   ]
  },
  {
   "cell_type": "code",
   "execution_count": 30,
   "metadata": {},
   "outputs": [
    {
     "name": "stdout",
     "output_type": "stream",
     "text": [
      "the description which contains the lowercase letter\n",
      "--------------------------------------------------\n",
      "BAG 500g SWIRLY MARBLES\n",
      "POLYESTER FILLER PAD 45x45cm\n",
      "POLYESTER FILLER PAD 45x30cm\n",
      "POLYESTER FILLER PAD 40x40cm\n",
      "FRENCH BLUE METAL DOOR SIGN No\n",
      "BAG 250g SWIRLY MARBLES\n",
      "BAG 125g SWIRLY MARBLES\n",
      "3 TRADITIONAl BISCUIT CUTTERS  SET\n",
      "NUMBER TILE COTTAGE GARDEN No\n",
      "FOLK ART GREETING CARD,pack/12\n",
      "ESSENTIAL BALM 3.5g TIN IN ENVELOPE\n",
      "POLYESTER FILLER PAD 65CMx65CM\n",
      "NUMBER TILE VINTAGE FONT No \n",
      "POLYESTER FILLER PAD 30CMx30CM\n",
      "POLYESTER FILLER PAD 60x40cm\n",
      "FLOWERS HANDBAG blue and orange\n",
      "Next Day Carriage\n",
      "THE KING GIFT BAG 25x24x12cm\n",
      "High Resolution Image\n"
     ]
    }
   ],
   "source": [
    "lowecase_description = df1[\"Description\"].unique()\n",
    "lowecase_description = [desc for desc in lowecase_description if any(char.islower() for char in desc)]\n",
    "\n",
    "print(\"the description which contains the lowercase letter\")\n",
    "print(\"-\"*50)\n",
    "for i in lowecase_description:\n",
    "    print(i)"
   ]
  },
  {
   "cell_type": "markdown",
   "metadata": {},
   "source": [
    "from above list \"Next Day Carriage\" and \"High Resolution Image\" are not product it may service details. \n",
    "\n",
    "strategy \n",
    "\n",
    "---------------> remove the service related description form the dataset \n",
    "\n",
    "---------------> for maintaing the uniformity we change the remaining lowercase description to uppercase"
   ]
  },
  {
   "cell_type": "code",
   "execution_count": 31,
   "metadata": {},
   "outputs": [
    {
     "name": "stdout",
     "output_type": "stream",
     "text": [
      "the percentage of service related description in dataset is\n",
      "------------------------------------------------------------\n",
      "0.02076614567826485\n"
     ]
    }
   ],
   "source": [
    "service_related_description = [\"Next Day Carriage\", \"High Resolution Image\"]\n",
    "\n",
    "service_related_percentage = (len(df1[df1[\"Description\"].isin(service_related_description)])/ len(df1[\"Description\"]))*100\n",
    "\n",
    "print(\"the percentage of service related description in dataset is\")\n",
    "print(\"-\"*60)\n",
    "print(service_related_percentage)"
   ]
  },
  {
   "cell_type": "code",
   "execution_count": 32,
   "metadata": {},
   "outputs": [],
   "source": [
    "df1 = df1[~df1[\"Description\"].isin(service_related_description)]\n",
    "\n",
    "df[\"Description\"] = df1[\"Description\"].str.upper()\n"
   ]
  },
  {
   "cell_type": "code",
   "execution_count": 33,
   "metadata": {},
   "outputs": [
    {
     "data": {
      "text/plain": [
       "count    399606.000000\n",
       "mean          2.904957\n",
       "std           4.448796\n",
       "min           0.000000\n",
       "25%           1.250000\n",
       "50%           1.950000\n",
       "75%           3.750000\n",
       "max         649.500000\n",
       "Name: UnitPrice, dtype: float64"
      ]
     },
     "execution_count": 33,
     "metadata": {},
     "output_type": "execute_result"
    }
   ],
   "source": [
    "df1[\"UnitPrice\"].describe()"
   ]
  },
  {
   "cell_type": "code",
   "execution_count": 34,
   "metadata": {},
   "outputs": [
    {
     "data": {
      "text/html": [
       "<div>\n",
       "<style scoped>\n",
       "    .dataframe tbody tr th:only-of-type {\n",
       "        vertical-align: middle;\n",
       "    }\n",
       "\n",
       "    .dataframe tbody tr th {\n",
       "        vertical-align: top;\n",
       "    }\n",
       "\n",
       "    .dataframe thead th {\n",
       "        text-align: right;\n",
       "    }\n",
       "</style>\n",
       "<table border=\"1\" class=\"dataframe\">\n",
       "  <thead>\n",
       "    <tr style=\"text-align: right;\">\n",
       "      <th></th>\n",
       "      <th>Quantity</th>\n",
       "    </tr>\n",
       "  </thead>\n",
       "  <tbody>\n",
       "    <tr>\n",
       "      <th>count</th>\n",
       "      <td>33.000000</td>\n",
       "    </tr>\n",
       "    <tr>\n",
       "      <th>mean</th>\n",
       "      <td>420.515152</td>\n",
       "    </tr>\n",
       "    <tr>\n",
       "      <th>std</th>\n",
       "      <td>2176.713608</td>\n",
       "    </tr>\n",
       "    <tr>\n",
       "      <th>min</th>\n",
       "      <td>1.000000</td>\n",
       "    </tr>\n",
       "    <tr>\n",
       "      <th>25%</th>\n",
       "      <td>2.000000</td>\n",
       "    </tr>\n",
       "    <tr>\n",
       "      <th>50%</th>\n",
       "      <td>11.000000</td>\n",
       "    </tr>\n",
       "    <tr>\n",
       "      <th>75%</th>\n",
       "      <td>36.000000</td>\n",
       "    </tr>\n",
       "    <tr>\n",
       "      <th>max</th>\n",
       "      <td>12540.000000</td>\n",
       "    </tr>\n",
       "  </tbody>\n",
       "</table>\n",
       "</div>"
      ],
      "text/plain": [
       "           Quantity\n",
       "count     33.000000\n",
       "mean     420.515152\n",
       "std     2176.713608\n",
       "min        1.000000\n",
       "25%        2.000000\n",
       "50%       11.000000\n",
       "75%       36.000000\n",
       "max    12540.000000"
      ]
     },
     "execution_count": 34,
     "metadata": {},
     "output_type": "execute_result"
    }
   ],
   "source": [
    "df1[df1[\"UnitPrice\"] == 0].describe()[[\"Quantity\"]]"
   ]
  },
  {
   "cell_type": "markdown",
   "metadata": {},
   "source": [
    "inferences \n",
    "\n",
    "the transaction with unit price of zero are 33 in number \n",
    "\n",
    "the quantity range from 1 to 12540 there are substantial standard deviation.\n",
    "\n",
    "these transaction may introduce the noise in project so we remove it "
   ]
  },
  {
   "cell_type": "code",
   "execution_count": 35,
   "metadata": {},
   "outputs": [
    {
     "data": {
      "text/plain": [
       "399573"
      ]
     },
     "execution_count": 35,
     "metadata": {},
     "output_type": "execute_result"
    }
   ],
   "source": [
    "df1 = df1[df1[\"UnitPrice\"] > 0]\n",
    "df1.shape[0]"
   ]
  },
  {
   "cell_type": "markdown",
   "metadata": {},
   "source": [
    "OUTLIER TREATMENT\n",
    "\n",
    "In k-Means clustering, the algorithm sensitive to both the scale of the data the presence of outliers, as they can significantly influence the position of centroids potentially leading to incorrect cluster assignments. However considering the context of this project where the final goal project to understand customer behaviour and preferences through K-Means, it would be more wise to address the issue of outliers after the features engineering phase where we create a customer centric dataset. so we don't remove the outliers. \n"
   ]
  },
  {
   "cell_type": "code",
   "execution_count": 36,
   "metadata": {},
   "outputs": [
    {
     "data": {
      "text/plain": [
       "399573"
      ]
     },
     "execution_count": 36,
     "metadata": {},
     "output_type": "execute_result"
    }
   ],
   "source": [
    "df1.reset_index(drop=True, inplace=True)\n",
    "df1.shape[0]"
   ]
  },
  {
   "cell_type": "markdown",
   "metadata": {},
   "source": [
    "FEATURES ENGINEERING\n",
    "\n",
    "To create customer centric dataset for clustering and recommendation "
   ]
  },
  {
   "cell_type": "markdown",
   "metadata": {},
   "source": [
    "RFM FEATURES \n",
    "\n",
    "RFM is a method where used for analyzing customer value and segmenting the customer base. \n",
    "\n",
    "RECENCY (R): The metric how recntly the customr has made a purchase. A lower recency value means cutomer made purchase recently, indicating higher enagement with the brand \n",
    "\n",
    "FREQURNCY(F): This metric signifies how often a customer makes a pruchase within a certain period. higher frequency value indicates customer who interacts with the business more often, this suggest higher loyalty or satisfication \n",
    "\n",
    "MONETARY(M): This metric represents the total amount of money a customer has spent over a certain period. Customer who have higher value have contributed to business indicating their potential high life time.\n",
    "\n",
    "these metrics help in understanding customer buying behavour and preferences which play important role in this project. \n"
   ]
  },
  {
   "cell_type": "code",
   "execution_count": 37,
   "metadata": {},
   "outputs": [
    {
     "data": {
      "text/plain": [
       "Index(['InvoiceNo', 'StockCode', 'Description', 'Quantity', 'InvoiceDate',\n",
       "       'UnitPrice', 'CustomerID', 'Country', 'Transaction_Status'],\n",
       "      dtype='object')"
      ]
     },
     "execution_count": 37,
     "metadata": {},
     "output_type": "execute_result"
    }
   ],
   "source": [
    "df1.columns"
   ]
  },
  {
   "cell_type": "markdown",
   "metadata": {},
   "source": [
    "RECENCY(R)\n",
    "\n",
    "Here we understand the customer recent purchase. it helps us to indentify the engagement level of customer. \n",
    "\n",
    "DAYS SINCE LAST PURCHASE: \n",
    "\n",
    "this feature represents the number of days that have passed since the customer last purchase. by understanding the recency of purchase, business can tailor their marketing strategies to re-engage customer who have not made a purchase in a while, potentially increasing customer retention and fostering loyallty.\n",
    "\n"
   ]
  },
  {
   "cell_type": "code",
   "execution_count": 38,
   "metadata": {},
   "outputs": [],
   "source": [
    "df1[\"InvoiceDate\"] = pd.to_datetime(df[\"InvoiceDate\"])\n",
    "\n",
    "df1[\"InvoiceDay\"] = df1[\"InvoiceDate\"].dt.date\n",
    "\n",
    "customer_data = df1.groupby(\"CustomerID\")[\"InvoiceDay\"].max().reset_index()\n",
    "\n",
    "most_recent_date = df1[\"InvoiceDate\"].max()\n",
    "\n",
    "customer_data[\"InvoiceDay\"] = pd.to_datetime(customer_data[\"InvoiceDay\"])\n",
    "\n",
    "most_recent_date = pd.to_datetime(most_recent_date)\n",
    "\n",
    "customer_data[\"Days_Since_Last_Purchase\"] = (most_recent_date - customer_data[\"InvoiceDay\"]).dt.days\n",
    "\n",
    "customer_data.drop(columns=[\"InvoiceDay\"], inplace=True)\n"
   ]
  },
  {
   "cell_type": "code",
   "execution_count": 39,
   "metadata": {},
   "outputs": [
    {
     "data": {
      "text/html": [
       "<div>\n",
       "<style scoped>\n",
       "    .dataframe tbody tr th:only-of-type {\n",
       "        vertical-align: middle;\n",
       "    }\n",
       "\n",
       "    .dataframe tbody tr th {\n",
       "        vertical-align: top;\n",
       "    }\n",
       "\n",
       "    .dataframe thead th {\n",
       "        text-align: right;\n",
       "    }\n",
       "</style>\n",
       "<table border=\"1\" class=\"dataframe\">\n",
       "  <thead>\n",
       "    <tr style=\"text-align: right;\">\n",
       "      <th></th>\n",
       "      <th>CustomerID</th>\n",
       "      <th>Days_Since_Last_Purchase</th>\n",
       "    </tr>\n",
       "  </thead>\n",
       "  <tbody>\n",
       "    <tr>\n",
       "      <th>0</th>\n",
       "      <td>12346.0</td>\n",
       "      <td>303</td>\n",
       "    </tr>\n",
       "    <tr>\n",
       "      <th>1</th>\n",
       "      <td>12347.0</td>\n",
       "      <td>3</td>\n",
       "    </tr>\n",
       "    <tr>\n",
       "      <th>2</th>\n",
       "      <td>12348.0</td>\n",
       "      <td>97</td>\n",
       "    </tr>\n",
       "    <tr>\n",
       "      <th>3</th>\n",
       "      <td>12349.0</td>\n",
       "      <td>21</td>\n",
       "    </tr>\n",
       "    <tr>\n",
       "      <th>4</th>\n",
       "      <td>12350.0</td>\n",
       "      <td>280</td>\n",
       "    </tr>\n",
       "  </tbody>\n",
       "</table>\n",
       "</div>"
      ],
      "text/plain": [
       "   CustomerID  Days_Since_Last_Purchase\n",
       "0     12346.0                       303\n",
       "1     12347.0                         3\n",
       "2     12348.0                        97\n",
       "3     12349.0                        21\n",
       "4     12350.0                       280"
      ]
     },
     "execution_count": 39,
     "metadata": {},
     "output_type": "execute_result"
    }
   ],
   "source": [
    "customer_data.head()"
   ]
  },
  {
   "cell_type": "markdown",
   "metadata": {},
   "source": [
    "the above customer_data dataframe for customer centric which eventually contain all the customer-based features we plan to create \n"
   ]
  },
  {
   "cell_type": "markdown",
   "metadata": {},
   "source": [
    "FREQUENCY(F):\n",
    "\n",
    "Here we create two features that quantify the frequency of customer engagement with the retailer. \n",
    "\n",
    "TOTAL_TRANSACTION: This features contains total number of transaction made by a ccustomer. it helps in understanding the engagement level of a customer with the retailer.\n",
    "\n",
    "TOTAL PRODUCTS PURCHASED: This features indicates the total number of products purchased by the customer across all transaction. It gives an insight into the customer's buying behaviour in terms of the volume of products purchased "
   ]
  },
  {
   "cell_type": "code",
   "execution_count": 40,
   "metadata": {},
   "outputs": [
    {
     "name": "stdout",
     "output_type": "stream",
     "text": [
      "(4362, 4)\n"
     ]
    },
    {
     "data": {
      "text/html": [
       "<div>\n",
       "<style scoped>\n",
       "    .dataframe tbody tr th:only-of-type {\n",
       "        vertical-align: middle;\n",
       "    }\n",
       "\n",
       "    .dataframe tbody tr th {\n",
       "        vertical-align: top;\n",
       "    }\n",
       "\n",
       "    .dataframe thead th {\n",
       "        text-align: right;\n",
       "    }\n",
       "</style>\n",
       "<table border=\"1\" class=\"dataframe\">\n",
       "  <thead>\n",
       "    <tr style=\"text-align: right;\">\n",
       "      <th></th>\n",
       "      <th>CustomerID</th>\n",
       "      <th>Days_Since_Last_Purchase</th>\n",
       "      <th>Total_Transactions</th>\n",
       "      <th>Total_Products_Purchased</th>\n",
       "    </tr>\n",
       "  </thead>\n",
       "  <tbody>\n",
       "    <tr>\n",
       "      <th>0</th>\n",
       "      <td>12346.0</td>\n",
       "      <td>303</td>\n",
       "      <td>2</td>\n",
       "      <td>0</td>\n",
       "    </tr>\n",
       "    <tr>\n",
       "      <th>1</th>\n",
       "      <td>12347.0</td>\n",
       "      <td>3</td>\n",
       "      <td>7</td>\n",
       "      <td>2458</td>\n",
       "    </tr>\n",
       "    <tr>\n",
       "      <th>2</th>\n",
       "      <td>12348.0</td>\n",
       "      <td>97</td>\n",
       "      <td>4</td>\n",
       "      <td>2332</td>\n",
       "    </tr>\n",
       "    <tr>\n",
       "      <th>3</th>\n",
       "      <td>12349.0</td>\n",
       "      <td>21</td>\n",
       "      <td>1</td>\n",
       "      <td>630</td>\n",
       "    </tr>\n",
       "    <tr>\n",
       "      <th>4</th>\n",
       "      <td>12350.0</td>\n",
       "      <td>280</td>\n",
       "      <td>1</td>\n",
       "      <td>196</td>\n",
       "    </tr>\n",
       "  </tbody>\n",
       "</table>\n",
       "</div>"
      ],
      "text/plain": [
       "   CustomerID  Days_Since_Last_Purchase  Total_Transactions  \\\n",
       "0     12346.0                       303                   2   \n",
       "1     12347.0                         3                   7   \n",
       "2     12348.0                        97                   4   \n",
       "3     12349.0                        21                   1   \n",
       "4     12350.0                       280                   1   \n",
       "\n",
       "   Total_Products_Purchased  \n",
       "0                         0  \n",
       "1                      2458  \n",
       "2                      2332  \n",
       "3                       630  \n",
       "4                       196  "
      ]
     },
     "execution_count": 40,
     "metadata": {},
     "output_type": "execute_result"
    }
   ],
   "source": [
    "total_transactions = df1.groupby(\"CustomerID\")[\"InvoiceNo\"].nunique().reset_index()\n",
    "\n",
    "total_transactions.rename(columns={\"InvoiceNo\": \"Total_Transactions\"}, inplace=True)\n",
    "\n",
    "total_products_purchased = df1.groupby(\"CustomerID\")[\"Quantity\"].sum().reset_index()\n",
    "\n",
    "total_products_purchased.rename(columns={\"Quantity\" : \"Total_Products_Purchased\"}, inplace=True)\n",
    "\n",
    "\n",
    "customer_data = pd.merge(customer_data, total_transactions, on=\"CustomerID\")\n",
    "customer_data = pd.merge(customer_data, total_products_purchased, on=\"CustomerID\")\n",
    "\n",
    "print(customer_data.shape)\n",
    "customer_data.head()\n"
   ]
  },
  {
   "cell_type": "markdown",
   "metadata": {},
   "source": [
    "MONETARY(M): \n",
    "\n",
    "Here we add two features \n",
    "\n",
    "TOTAL SPEND: \n",
    "\n",
    "The features represents the total amount of money spent by each customer.It is calculated as the sum of the products of unitprice and quantity for all transaction made by a customer. This feature helps to identify revenue generated by each customer, which indicator of customer's value to the business.\n",
    "\n",
    "AVERAGE TRANSACTION VALUE: \n",
    "\n",
    "This feature is calculated by (Total spend/Total Transaction) for each customer. It indicates the average value of a transaction carried out by a customer. This metric is useful in understanding the spending behavoiur of customer per transaction, which can assist in tailoring marketing strategies and offers to different customer segments based on their average spending patterns."
   ]
  },
  {
   "cell_type": "code",
   "execution_count": 41,
   "metadata": {},
   "outputs": [
    {
     "data": {
      "text/html": [
       "<div>\n",
       "<style scoped>\n",
       "    .dataframe tbody tr th:only-of-type {\n",
       "        vertical-align: middle;\n",
       "    }\n",
       "\n",
       "    .dataframe tbody tr th {\n",
       "        vertical-align: top;\n",
       "    }\n",
       "\n",
       "    .dataframe thead th {\n",
       "        text-align: right;\n",
       "    }\n",
       "</style>\n",
       "<table border=\"1\" class=\"dataframe\">\n",
       "  <thead>\n",
       "    <tr style=\"text-align: right;\">\n",
       "      <th></th>\n",
       "      <th>CustomerID</th>\n",
       "      <th>Days_Since_Last_Purchase</th>\n",
       "      <th>Total_Transactions</th>\n",
       "      <th>Total_Products_Purchased</th>\n",
       "      <th>Total_Spend</th>\n",
       "      <th>Average_Transaction_value</th>\n",
       "    </tr>\n",
       "  </thead>\n",
       "  <tbody>\n",
       "    <tr>\n",
       "      <th>0</th>\n",
       "      <td>12346.0</td>\n",
       "      <td>303</td>\n",
       "      <td>2</td>\n",
       "      <td>0</td>\n",
       "      <td>0.00</td>\n",
       "      <td>0.000000</td>\n",
       "    </tr>\n",
       "    <tr>\n",
       "      <th>1</th>\n",
       "      <td>12347.0</td>\n",
       "      <td>3</td>\n",
       "      <td>7</td>\n",
       "      <td>2458</td>\n",
       "      <td>4310.00</td>\n",
       "      <td>615.714286</td>\n",
       "    </tr>\n",
       "    <tr>\n",
       "      <th>2</th>\n",
       "      <td>12348.0</td>\n",
       "      <td>97</td>\n",
       "      <td>4</td>\n",
       "      <td>2332</td>\n",
       "      <td>1437.24</td>\n",
       "      <td>359.310000</td>\n",
       "    </tr>\n",
       "    <tr>\n",
       "      <th>3</th>\n",
       "      <td>12349.0</td>\n",
       "      <td>21</td>\n",
       "      <td>1</td>\n",
       "      <td>630</td>\n",
       "      <td>1457.55</td>\n",
       "      <td>1457.550000</td>\n",
       "    </tr>\n",
       "    <tr>\n",
       "      <th>4</th>\n",
       "      <td>12350.0</td>\n",
       "      <td>280</td>\n",
       "      <td>1</td>\n",
       "      <td>196</td>\n",
       "      <td>294.40</td>\n",
       "      <td>294.400000</td>\n",
       "    </tr>\n",
       "  </tbody>\n",
       "</table>\n",
       "</div>"
      ],
      "text/plain": [
       "   CustomerID  Days_Since_Last_Purchase  Total_Transactions  \\\n",
       "0     12346.0                       303                   2   \n",
       "1     12347.0                         3                   7   \n",
       "2     12348.0                        97                   4   \n",
       "3     12349.0                        21                   1   \n",
       "4     12350.0                       280                   1   \n",
       "\n",
       "   Total_Products_Purchased  Total_Spend  Average_Transaction_value  \n",
       "0                         0         0.00                   0.000000  \n",
       "1                      2458      4310.00                 615.714286  \n",
       "2                      2332      1437.24                 359.310000  \n",
       "3                       630      1457.55                1457.550000  \n",
       "4                       196       294.40                 294.400000  "
      ]
     },
     "execution_count": 41,
     "metadata": {},
     "output_type": "execute_result"
    }
   ],
   "source": [
    "df1[\"Total_Spend\"] = df1[\"UnitPrice\"]*df1[\"Quantity\"]\n",
    "total_spend = df1.groupby(\"CustomerID\")[\"Total_Spend\"].sum().reset_index()\n",
    "\n",
    "\n",
    "# here we adding totalspend column twice in customer data which gives _x and _y columns \n",
    "\n",
    "customer_data = pd.merge(customer_data, total_spend, on=\"CustomerID\")\n",
    "\n",
    "\n",
    "average_transaction_value = total_spend.merge(total_transactions, on=\"CustomerID\")\n",
    "\n",
    "\n",
    "average_transaction_value[\"Average_Transaction_value\"] = average_transaction_value[\"Total_Spend\"] / average_transaction_value[\"Total_Transactions\"]\n",
    "\n",
    "# below line already addded in the customer data \n",
    "\n",
    "customer_data = pd.merge(customer_data, average_transaction_value[[\"CustomerID\", \"Average_Transaction_value\"]], on=\"CustomerID\")\n",
    "\n",
    "customer_data.head()"
   ]
  },
  {
   "cell_type": "code",
   "execution_count": 42,
   "metadata": {},
   "outputs": [],
   "source": [
    "# # Dropping the redundant columns\n",
    "# customer_data_cleaned = customer_data.drop(columns=[\n",
    "#     'Total_Transactions_x', 'Total_Products_Purchased_x', \n",
    "#     'Total_Spend_x', 'Average_Transaction_value_x', \n",
    "#     'Total_Transactions_y', 'Total_Products_Purchased_y', \n",
    "#     'Total_Spend_y', 'Average_Transaction_value_y'\n",
    "# ])\n",
    "\n",
    "# # Display the cleaned data\n",
    "# customer_data_cleaned.head()\n"
   ]
  },
  {
   "cell_type": "markdown",
   "metadata": {},
   "source": [
    "PRODUCT DIVERSITY \n",
    "\n",
    "Here we understand diversity in product purchase behaviour of customer. understanding this helps us to crafting personalized marketing strategied and product recommendation\n",
    "\n",
    "UNIQUE PRODUCTS PURCHASED :\n",
    "\n",
    "This features represents the number of distinct products bought by customer. A higher value indicates that the customer has a diverse taste or preference buying a wide range of products, while a lower value might indicates the focused or specific preference. Understanding the diversity in product purchases can help in segmenting customers based on their buying diversity, which is important input in recommendation system. "
   ]
  },
  {
   "cell_type": "code",
   "execution_count": 43,
   "metadata": {},
   "outputs": [
    {
     "data": {
      "text/html": [
       "<div>\n",
       "<style scoped>\n",
       "    .dataframe tbody tr th:only-of-type {\n",
       "        vertical-align: middle;\n",
       "    }\n",
       "\n",
       "    .dataframe tbody tr th {\n",
       "        vertical-align: top;\n",
       "    }\n",
       "\n",
       "    .dataframe thead th {\n",
       "        text-align: right;\n",
       "    }\n",
       "</style>\n",
       "<table border=\"1\" class=\"dataframe\">\n",
       "  <thead>\n",
       "    <tr style=\"text-align: right;\">\n",
       "      <th></th>\n",
       "      <th>CustomerID</th>\n",
       "      <th>Days_Since_Last_Purchase</th>\n",
       "      <th>Total_Transactions</th>\n",
       "      <th>Total_Products_Purchased</th>\n",
       "      <th>Total_Spend</th>\n",
       "      <th>Average_Transaction_value</th>\n",
       "      <th>Unique_Products_Purchased</th>\n",
       "    </tr>\n",
       "  </thead>\n",
       "  <tbody>\n",
       "    <tr>\n",
       "      <th>0</th>\n",
       "      <td>12346.0</td>\n",
       "      <td>303</td>\n",
       "      <td>2</td>\n",
       "      <td>0</td>\n",
       "      <td>0.00</td>\n",
       "      <td>0.000000</td>\n",
       "      <td>1</td>\n",
       "    </tr>\n",
       "    <tr>\n",
       "      <th>1</th>\n",
       "      <td>12347.0</td>\n",
       "      <td>3</td>\n",
       "      <td>7</td>\n",
       "      <td>2458</td>\n",
       "      <td>4310.00</td>\n",
       "      <td>615.714286</td>\n",
       "      <td>103</td>\n",
       "    </tr>\n",
       "    <tr>\n",
       "      <th>2</th>\n",
       "      <td>12348.0</td>\n",
       "      <td>97</td>\n",
       "      <td>4</td>\n",
       "      <td>2332</td>\n",
       "      <td>1437.24</td>\n",
       "      <td>359.310000</td>\n",
       "      <td>21</td>\n",
       "    </tr>\n",
       "    <tr>\n",
       "      <th>3</th>\n",
       "      <td>12349.0</td>\n",
       "      <td>21</td>\n",
       "      <td>1</td>\n",
       "      <td>630</td>\n",
       "      <td>1457.55</td>\n",
       "      <td>1457.550000</td>\n",
       "      <td>72</td>\n",
       "    </tr>\n",
       "    <tr>\n",
       "      <th>4</th>\n",
       "      <td>12350.0</td>\n",
       "      <td>280</td>\n",
       "      <td>1</td>\n",
       "      <td>196</td>\n",
       "      <td>294.40</td>\n",
       "      <td>294.400000</td>\n",
       "      <td>16</td>\n",
       "    </tr>\n",
       "  </tbody>\n",
       "</table>\n",
       "</div>"
      ],
      "text/plain": [
       "   CustomerID  Days_Since_Last_Purchase  Total_Transactions  \\\n",
       "0     12346.0                       303                   2   \n",
       "1     12347.0                         3                   7   \n",
       "2     12348.0                        97                   4   \n",
       "3     12349.0                        21                   1   \n",
       "4     12350.0                       280                   1   \n",
       "\n",
       "   Total_Products_Purchased  Total_Spend  Average_Transaction_value  \\\n",
       "0                         0         0.00                   0.000000   \n",
       "1                      2458      4310.00                 615.714286   \n",
       "2                      2332      1437.24                 359.310000   \n",
       "3                       630      1457.55                1457.550000   \n",
       "4                       196       294.40                 294.400000   \n",
       "\n",
       "   Unique_Products_Purchased  \n",
       "0                          1  \n",
       "1                        103  \n",
       "2                         21  \n",
       "3                         72  \n",
       "4                         16  "
      ]
     },
     "execution_count": 43,
     "metadata": {},
     "output_type": "execute_result"
    }
   ],
   "source": [
    "unique_products_purchased = df1.groupby(\"CustomerID\")[\"StockCode\"].nunique().reset_index()\n",
    "unique_products_purchased.rename(columns={\"StockCode\": \"Unique_Products_Purchased\"}, inplace=True)\n",
    "\n",
    "customer_data = pd.merge(customer_data, unique_products_purchased, on=\"CustomerID\")\n",
    "\n",
    "customer_data.head()"
   ]
  },
  {
   "cell_type": "markdown",
   "metadata": {},
   "source": [
    "BEHAVIOURAL FEATURES \n",
    "\n",
    "Here we try to understand and find the pattern and behaviours of customer. \n",
    "These features gives us insight into the customer preferences regarding when they are like to shop, which is important information for personalizing their shoppinf experience. \n",
    "\n",
    "AVERAGE DAYS BETWEEN PURCHASE: average number of days a customer waits before making another purchase. understanding this helps us to predict when the customer is likely to make their nextt purcahse. used for targeted marketing and personalized promotions. \n",
    "\n",
    "FAVORITE SHOPPING DAY: This denotes the day of the week when the customer shops the most. this helps in identifying the prefered shoping days of different customer segments, used to optimize marketing strategies and promotions for different days of the week. \n",
    "\n",
    "FAVORITE SHOPPING HOURS: Hour of the day when the customer shop the most. This helps in marketing and promotions to align with the times when different customer segments are more active \n",
    "\n",
    "\n"
   ]
  },
  {
   "cell_type": "code",
   "execution_count": 45,
   "metadata": {},
   "outputs": [],
   "source": [
    "df1[\"Day_Of_Week\"] = df1[\"InvoiceDate\"].dt.dayofweek\n",
    "df1[\"Hour\"] = df1[\"InvoiceDate\"].dt.hour\n",
    "\n",
    "\n",
    "# Average days between consecutive purchase \n",
    "days_between_purchase = df1.groupby(\"CustomerID\")[\"InvoiceDay\"].apply(lambda x: (x.diff().dropna()).apply(lambda y : y.days))\n",
    "\n",
    "average_days_between_purchase = days_between_purchase.groupby(\"CustomerID\").mean().reset_index()\n",
    "\n",
    "average_days_between_purchase.rename(columns={\"InvoiceDay\": \"Average_Days_Between_Purchase\"}, inplace=True)\n",
    "\n",
    "\n"
   ]
  },
  {
   "cell_type": "code",
   "execution_count": 48,
   "metadata": {},
   "outputs": [
    {
     "data": {
      "text/plain": [
       "CustomerID        \n",
       "12346.0     37339      0\n",
       "12347.0     10363      0\n",
       "            10364      0\n",
       "            10365      0\n",
       "            10366      0\n",
       "                      ..\n",
       "18287.0     286817     0\n",
       "            286818     0\n",
       "            312503    22\n",
       "            312504     0\n",
       "            312505     0\n",
       "Name: InvoiceDay, Length: 395211, dtype: int64"
      ]
     },
     "execution_count": 48,
     "metadata": {},
     "output_type": "execute_result"
    }
   ],
   "source": [
    "days_between_purchase"
   ]
  },
  {
   "cell_type": "code",
   "execution_count": 52,
   "metadata": {},
   "outputs": [
    {
     "data": {
      "text/html": [
       "<div>\n",
       "<style scoped>\n",
       "    .dataframe tbody tr th:only-of-type {\n",
       "        vertical-align: middle;\n",
       "    }\n",
       "\n",
       "    .dataframe tbody tr th {\n",
       "        vertical-align: top;\n",
       "    }\n",
       "\n",
       "    .dataframe thead th {\n",
       "        text-align: right;\n",
       "    }\n",
       "</style>\n",
       "<table border=\"1\" class=\"dataframe\">\n",
       "  <thead>\n",
       "    <tr style=\"text-align: right;\">\n",
       "      <th></th>\n",
       "      <th>CustomerID</th>\n",
       "      <th>Day_Of_Week</th>\n",
       "      <th>Count</th>\n",
       "    </tr>\n",
       "  </thead>\n",
       "  <tbody>\n",
       "    <tr>\n",
       "      <th>0</th>\n",
       "      <td>12346.0</td>\n",
       "      <td>4</td>\n",
       "      <td>2</td>\n",
       "    </tr>\n",
       "    <tr>\n",
       "      <th>1</th>\n",
       "      <td>12347.0</td>\n",
       "      <td>0</td>\n",
       "      <td>31</td>\n",
       "    </tr>\n",
       "    <tr>\n",
       "      <th>2</th>\n",
       "      <td>12347.0</td>\n",
       "      <td>1</td>\n",
       "      <td>69</td>\n",
       "    </tr>\n",
       "    <tr>\n",
       "      <th>3</th>\n",
       "      <td>12347.0</td>\n",
       "      <td>2</td>\n",
       "      <td>71</td>\n",
       "    </tr>\n",
       "    <tr>\n",
       "      <th>4</th>\n",
       "      <td>12347.0</td>\n",
       "      <td>3</td>\n",
       "      <td>11</td>\n",
       "    </tr>\n",
       "    <tr>\n",
       "      <th>...</th>\n",
       "      <td>...</td>\n",
       "      <td>...</td>\n",
       "      <td>...</td>\n",
       "    </tr>\n",
       "    <tr>\n",
       "      <th>11198</th>\n",
       "      <td>18283.0</td>\n",
       "      <td>3</td>\n",
       "      <td>189</td>\n",
       "    </tr>\n",
       "    <tr>\n",
       "      <th>11199</th>\n",
       "      <td>18283.0</td>\n",
       "      <td>4</td>\n",
       "      <td>29</td>\n",
       "    </tr>\n",
       "    <tr>\n",
       "      <th>11200</th>\n",
       "      <td>18283.0</td>\n",
       "      <td>6</td>\n",
       "      <td>24</td>\n",
       "    </tr>\n",
       "    <tr>\n",
       "      <th>11201</th>\n",
       "      <td>18287.0</td>\n",
       "      <td>1</td>\n",
       "      <td>67</td>\n",
       "    </tr>\n",
       "    <tr>\n",
       "      <th>11202</th>\n",
       "      <td>18287.0</td>\n",
       "      <td>2</td>\n",
       "      <td>3</td>\n",
       "    </tr>\n",
       "  </tbody>\n",
       "</table>\n",
       "<p>11203 rows × 3 columns</p>\n",
       "</div>"
      ],
      "text/plain": [
       "       CustomerID  Day_Of_Week  Count\n",
       "0         12346.0            4      2\n",
       "1         12347.0            0     31\n",
       "2         12347.0            1     69\n",
       "3         12347.0            2     71\n",
       "4         12347.0            3     11\n",
       "...           ...          ...    ...\n",
       "11198     18283.0            3    189\n",
       "11199     18283.0            4     29\n",
       "11200     18283.0            6     24\n",
       "11201     18287.0            1     67\n",
       "11202     18287.0            2      3\n",
       "\n",
       "[11203 rows x 3 columns]"
      ]
     },
     "execution_count": 52,
     "metadata": {},
     "output_type": "execute_result"
    }
   ],
   "source": [
    "# Find the favorite shopping day of the week \n",
    "\n",
    "favorite_shopping_day = df1.groupby([\"CustomerID\", \"Day_Of_Week\"]).size().reset_index(name=\"Count\")\n",
    "favorite_shopping_day"
   ]
  },
  {
   "cell_type": "code",
   "execution_count": 54,
   "metadata": {},
   "outputs": [
    {
     "data": {
      "text/html": [
       "<div>\n",
       "<style scoped>\n",
       "    .dataframe tbody tr th:only-of-type {\n",
       "        vertical-align: middle;\n",
       "    }\n",
       "\n",
       "    .dataframe tbody tr th {\n",
       "        vertical-align: top;\n",
       "    }\n",
       "\n",
       "    .dataframe thead th {\n",
       "        text-align: right;\n",
       "    }\n",
       "</style>\n",
       "<table border=\"1\" class=\"dataframe\">\n",
       "  <thead>\n",
       "    <tr style=\"text-align: right;\">\n",
       "      <th></th>\n",
       "      <th>CustomerID</th>\n",
       "      <th>Day_Of_Week</th>\n",
       "    </tr>\n",
       "  </thead>\n",
       "  <tbody>\n",
       "    <tr>\n",
       "      <th>0</th>\n",
       "      <td>12346.0</td>\n",
       "      <td>4</td>\n",
       "    </tr>\n",
       "    <tr>\n",
       "      <th>3</th>\n",
       "      <td>12347.0</td>\n",
       "      <td>2</td>\n",
       "    </tr>\n",
       "    <tr>\n",
       "      <th>8</th>\n",
       "      <td>12348.0</td>\n",
       "      <td>4</td>\n",
       "    </tr>\n",
       "    <tr>\n",
       "      <th>9</th>\n",
       "      <td>12349.0</td>\n",
       "      <td>6</td>\n",
       "    </tr>\n",
       "    <tr>\n",
       "      <th>10</th>\n",
       "      <td>12350.0</td>\n",
       "      <td>6</td>\n",
       "    </tr>\n",
       "    <tr>\n",
       "      <th>...</th>\n",
       "      <td>...</td>\n",
       "      <td>...</td>\n",
       "    </tr>\n",
       "    <tr>\n",
       "      <th>11191</th>\n",
       "      <td>18280.0</td>\n",
       "      <td>2</td>\n",
       "    </tr>\n",
       "    <tr>\n",
       "      <th>11192</th>\n",
       "      <td>18281.0</td>\n",
       "      <td>3</td>\n",
       "    </tr>\n",
       "    <tr>\n",
       "      <th>11194</th>\n",
       "      <td>18282.0</td>\n",
       "      <td>4</td>\n",
       "    </tr>\n",
       "    <tr>\n",
       "      <th>11196</th>\n",
       "      <td>18283.0</td>\n",
       "      <td>1</td>\n",
       "    </tr>\n",
       "    <tr>\n",
       "      <th>11201</th>\n",
       "      <td>18287.0</td>\n",
       "      <td>1</td>\n",
       "    </tr>\n",
       "  </tbody>\n",
       "</table>\n",
       "<p>4362 rows × 2 columns</p>\n",
       "</div>"
      ],
      "text/plain": [
       "       CustomerID  Day_Of_Week\n",
       "0         12346.0            4\n",
       "3         12347.0            2\n",
       "8         12348.0            4\n",
       "9         12349.0            6\n",
       "10        12350.0            6\n",
       "...           ...          ...\n",
       "11191     18280.0            2\n",
       "11192     18281.0            3\n",
       "11194     18282.0            4\n",
       "11196     18283.0            1\n",
       "11201     18287.0            1\n",
       "\n",
       "[4362 rows x 2 columns]"
      ]
     },
     "execution_count": 54,
     "metadata": {},
     "output_type": "execute_result"
    }
   ],
   "source": [
    "\n",
    "\n",
    "favorite_shopping_day = favorite_shopping_day.loc[favorite_shopping_day.groupby(\"CustomerID\")[\"Count\"].idxmax()][[\"CustomerID\", \"Day_Of_Week\"]]\n",
    "favorite_shopping_day"
   ]
  },
  {
   "cell_type": "code",
   "execution_count": 57,
   "metadata": {},
   "outputs": [
    {
     "data": {
      "text/html": [
       "<div>\n",
       "<style scoped>\n",
       "    .dataframe tbody tr th:only-of-type {\n",
       "        vertical-align: middle;\n",
       "    }\n",
       "\n",
       "    .dataframe tbody tr th {\n",
       "        vertical-align: top;\n",
       "    }\n",
       "\n",
       "    .dataframe thead th {\n",
       "        text-align: right;\n",
       "    }\n",
       "</style>\n",
       "<table border=\"1\" class=\"dataframe\">\n",
       "  <thead>\n",
       "    <tr style=\"text-align: right;\">\n",
       "      <th></th>\n",
       "      <th>CustomerID</th>\n",
       "      <th>Hour</th>\n",
       "    </tr>\n",
       "  </thead>\n",
       "  <tbody>\n",
       "    <tr>\n",
       "      <th>0</th>\n",
       "      <td>12346.0</td>\n",
       "      <td>17</td>\n",
       "    </tr>\n",
       "    <tr>\n",
       "      <th>2</th>\n",
       "      <td>12347.0</td>\n",
       "      <td>10</td>\n",
       "    </tr>\n",
       "    <tr>\n",
       "      <th>6</th>\n",
       "      <td>12348.0</td>\n",
       "      <td>9</td>\n",
       "    </tr>\n",
       "    <tr>\n",
       "      <th>10</th>\n",
       "      <td>12349.0</td>\n",
       "      <td>16</td>\n",
       "    </tr>\n",
       "    <tr>\n",
       "      <th>11</th>\n",
       "      <td>12350.0</td>\n",
       "      <td>14</td>\n",
       "    </tr>\n",
       "    <tr>\n",
       "      <th>...</th>\n",
       "      <td>...</td>\n",
       "      <td>...</td>\n",
       "    </tr>\n",
       "    <tr>\n",
       "      <th>14170</th>\n",
       "      <td>18280.0</td>\n",
       "      <td>16</td>\n",
       "    </tr>\n",
       "    <tr>\n",
       "      <th>14171</th>\n",
       "      <td>18281.0</td>\n",
       "      <td>15</td>\n",
       "    </tr>\n",
       "    <tr>\n",
       "      <th>14172</th>\n",
       "      <td>18282.0</td>\n",
       "      <td>13</td>\n",
       "    </tr>\n",
       "    <tr>\n",
       "      <th>14179</th>\n",
       "      <td>18283.0</td>\n",
       "      <td>15</td>\n",
       "    </tr>\n",
       "    <tr>\n",
       "      <th>14182</th>\n",
       "      <td>18287.0</td>\n",
       "      <td>10</td>\n",
       "    </tr>\n",
       "  </tbody>\n",
       "</table>\n",
       "<p>4362 rows × 2 columns</p>\n",
       "</div>"
      ],
      "text/plain": [
       "       CustomerID  Hour\n",
       "0         12346.0    17\n",
       "2         12347.0    10\n",
       "6         12348.0     9\n",
       "10        12349.0    16\n",
       "11        12350.0    14\n",
       "...           ...   ...\n",
       "14170     18280.0    16\n",
       "14171     18281.0    15\n",
       "14172     18282.0    13\n",
       "14179     18283.0    15\n",
       "14182     18287.0    10\n",
       "\n",
       "[4362 rows x 2 columns]"
      ]
     },
     "execution_count": 57,
     "metadata": {},
     "output_type": "execute_result"
    }
   ],
   "source": [
    "# Find the favourite shopping hour of the day. \n",
    "\n",
    "favorite_shopping_hour = df1.groupby([\"CustomerID\", \"Hour\"]).size().reset_index(name=\"Count\")\n",
    "favorite_shopping_hour = favorite_shopping_hour.loc[favorite_shopping_hour.groupby(\"CustomerID\")[\"Count\"].idxmax()][[\"CustomerID\", \"Hour\"]]\n",
    "\n",
    "favorite_shopping_hour"
   ]
  },
  {
   "cell_type": "code",
   "execution_count": 59,
   "metadata": {},
   "outputs": [
    {
     "data": {
      "text/html": [
       "<div>\n",
       "<style scoped>\n",
       "    .dataframe tbody tr th:only-of-type {\n",
       "        vertical-align: middle;\n",
       "    }\n",
       "\n",
       "    .dataframe tbody tr th {\n",
       "        vertical-align: top;\n",
       "    }\n",
       "\n",
       "    .dataframe thead th {\n",
       "        text-align: right;\n",
       "    }\n",
       "</style>\n",
       "<table border=\"1\" class=\"dataframe\">\n",
       "  <thead>\n",
       "    <tr style=\"text-align: right;\">\n",
       "      <th></th>\n",
       "      <th>CustomerID</th>\n",
       "      <th>Days_Since_Last_Purchase</th>\n",
       "      <th>Total_Transactions</th>\n",
       "      <th>Total_Products_Purchased</th>\n",
       "      <th>Total_Spend</th>\n",
       "      <th>Average_Transaction_value</th>\n",
       "      <th>Unique_Products_Purchased</th>\n",
       "      <th>Average_Days_Between_Purchase_x</th>\n",
       "      <th>Day_Of_Week_x</th>\n",
       "      <th>Hour_x</th>\n",
       "      <th>Average_Days_Between_Purchase_y</th>\n",
       "      <th>Day_Of_Week_y</th>\n",
       "      <th>Hour_y</th>\n",
       "    </tr>\n",
       "  </thead>\n",
       "  <tbody>\n",
       "    <tr>\n",
       "      <th>0</th>\n",
       "      <td>12346.0</td>\n",
       "      <td>303</td>\n",
       "      <td>2</td>\n",
       "      <td>0</td>\n",
       "      <td>0.00</td>\n",
       "      <td>0.000000</td>\n",
       "      <td>1</td>\n",
       "      <td>0.000000</td>\n",
       "      <td>4</td>\n",
       "      <td>17</td>\n",
       "      <td>0.000000</td>\n",
       "      <td>4</td>\n",
       "      <td>17</td>\n",
       "    </tr>\n",
       "    <tr>\n",
       "      <th>1</th>\n",
       "      <td>12347.0</td>\n",
       "      <td>3</td>\n",
       "      <td>7</td>\n",
       "      <td>2458</td>\n",
       "      <td>4310.00</td>\n",
       "      <td>615.714286</td>\n",
       "      <td>103</td>\n",
       "      <td>1.718232</td>\n",
       "      <td>2</td>\n",
       "      <td>10</td>\n",
       "      <td>1.718232</td>\n",
       "      <td>2</td>\n",
       "      <td>10</td>\n",
       "    </tr>\n",
       "    <tr>\n",
       "      <th>2</th>\n",
       "      <td>12348.0</td>\n",
       "      <td>97</td>\n",
       "      <td>4</td>\n",
       "      <td>2332</td>\n",
       "      <td>1437.24</td>\n",
       "      <td>359.310000</td>\n",
       "      <td>21</td>\n",
       "      <td>8.192308</td>\n",
       "      <td>4</td>\n",
       "      <td>9</td>\n",
       "      <td>8.192308</td>\n",
       "      <td>4</td>\n",
       "      <td>9</td>\n",
       "    </tr>\n",
       "    <tr>\n",
       "      <th>3</th>\n",
       "      <td>12349.0</td>\n",
       "      <td>21</td>\n",
       "      <td>1</td>\n",
       "      <td>630</td>\n",
       "      <td>1457.55</td>\n",
       "      <td>1457.550000</td>\n",
       "      <td>72</td>\n",
       "      <td>0.000000</td>\n",
       "      <td>6</td>\n",
       "      <td>16</td>\n",
       "      <td>0.000000</td>\n",
       "      <td>6</td>\n",
       "      <td>16</td>\n",
       "    </tr>\n",
       "    <tr>\n",
       "      <th>4</th>\n",
       "      <td>12350.0</td>\n",
       "      <td>280</td>\n",
       "      <td>1</td>\n",
       "      <td>196</td>\n",
       "      <td>294.40</td>\n",
       "      <td>294.400000</td>\n",
       "      <td>16</td>\n",
       "      <td>0.000000</td>\n",
       "      <td>6</td>\n",
       "      <td>14</td>\n",
       "      <td>0.000000</td>\n",
       "      <td>6</td>\n",
       "      <td>14</td>\n",
       "    </tr>\n",
       "  </tbody>\n",
       "</table>\n",
       "</div>"
      ],
      "text/plain": [
       "   CustomerID  Days_Since_Last_Purchase  Total_Transactions  \\\n",
       "0     12346.0                       303                   2   \n",
       "1     12347.0                         3                   7   \n",
       "2     12348.0                        97                   4   \n",
       "3     12349.0                        21                   1   \n",
       "4     12350.0                       280                   1   \n",
       "\n",
       "   Total_Products_Purchased  Total_Spend  Average_Transaction_value  \\\n",
       "0                         0         0.00                   0.000000   \n",
       "1                      2458      4310.00                 615.714286   \n",
       "2                      2332      1437.24                 359.310000   \n",
       "3                       630      1457.55                1457.550000   \n",
       "4                       196       294.40                 294.400000   \n",
       "\n",
       "   Unique_Products_Purchased  Average_Days_Between_Purchase_x  Day_Of_Week_x  \\\n",
       "0                          1                         0.000000              4   \n",
       "1                        103                         1.718232              2   \n",
       "2                         21                         8.192308              4   \n",
       "3                         72                         0.000000              6   \n",
       "4                         16                         0.000000              6   \n",
       "\n",
       "   Hour_x  Average_Days_Between_Purchase_y  Day_Of_Week_y  Hour_y  \n",
       "0      17                         0.000000              4      17  \n",
       "1      10                         1.718232              2      10  \n",
       "2       9                         8.192308              4       9  \n",
       "3      16                         0.000000              6      16  \n",
       "4      14                         0.000000              6      14  "
      ]
     },
     "execution_count": 59,
     "metadata": {},
     "output_type": "execute_result"
    }
   ],
   "source": [
    "# Merge the new features into the customer_data dataframe \n",
    "\n",
    "customer_data = pd.merge(customer_data, average_days_between_purchase, on=\"CustomerID\")\n",
    "customer_data = pd.merge(customer_data, favorite_shopping_day, on=\"CustomerID\")\n",
    "customer_data = pd.merge(customer_data, favorite_shopping_hour, on=\"CustomerID\")\n",
    "customer_data.head()"
   ]
  },
  {
   "cell_type": "markdown",
   "metadata": {},
   "source": [
    "GEOGRAPHICAL FEATURES \n",
    "\n",
    "COUNTRY: This features helps us to understand region-specific buying patterns and preferences. This is critical for personalizing marketing strategies and inventory planing. it can be instrument in logistic and supply chain management, particularly for  supply chain optimization, like shipping and delivery"
   ]
  },
  {
   "cell_type": "code",
   "execution_count": 63,
   "metadata": {},
   "outputs": [
    {
     "data": {
      "text/plain": [
       "Country\n",
       "United Kingdom    89.097111\n",
       "Germany            2.272176\n",
       "France             2.040178\n",
       "EIRE               1.843968\n",
       "Spain              0.616158\n",
       "Name: proportion, dtype: float64"
      ]
     },
     "execution_count": 63,
     "metadata": {},
     "output_type": "execute_result"
    }
   ],
   "source": [
    "df1[\"Country\"].value_counts(normalize=True).head()*100"
   ]
  },
  {
   "cell_type": "markdown",
   "metadata": {},
   "source": [
    "INFERENCES \n",
    "\n",
    "Given that a major protion of transaction originating from the United Kingdom, we might consider creating a binary features indicating whether the transaction is from UK or not. This approach can potentially streamline the clustering process without losing critical geographical info. this also due to algorithm we considering K-Means which is sensitive to the dimensionality of the features space "
   ]
  },
  {
   "cell_type": "markdown",
   "metadata": {},
   "source": [
    "METHODOLOGY \n",
    "\n",
    "group the data by customer and country and calculate the number of transaction per country for each customer \n",
    "\n",
    "Next we identify the main country for each customer(the country which have the max trasaction)\n",
    "\n",
    "Then we create the binary column indicating whether the customer id from the UK or not.\n",
    "\n",
    "Finally, we will this information with the customer_data dataframe to include the new features in our analysis. \n",
    "\n",
    "\n"
   ]
  },
  {
   "cell_type": "code",
   "execution_count": 64,
   "metadata": {},
   "outputs": [
    {
     "data": {
      "text/html": [
       "<div>\n",
       "<style scoped>\n",
       "    .dataframe tbody tr th:only-of-type {\n",
       "        vertical-align: middle;\n",
       "    }\n",
       "\n",
       "    .dataframe tbody tr th {\n",
       "        vertical-align: top;\n",
       "    }\n",
       "\n",
       "    .dataframe thead th {\n",
       "        text-align: right;\n",
       "    }\n",
       "</style>\n",
       "<table border=\"1\" class=\"dataframe\">\n",
       "  <thead>\n",
       "    <tr style=\"text-align: right;\">\n",
       "      <th></th>\n",
       "      <th>CustomerID</th>\n",
       "      <th>Days_Since_Last_Purchase</th>\n",
       "      <th>Total_Transactions</th>\n",
       "      <th>Total_Products_Purchased</th>\n",
       "      <th>Total_Spend</th>\n",
       "      <th>Average_Transaction_value</th>\n",
       "      <th>Unique_Products_Purchased</th>\n",
       "      <th>Average_Days_Between_Purchase_x</th>\n",
       "      <th>Day_Of_Week_x</th>\n",
       "      <th>Hour_x</th>\n",
       "      <th>Average_Days_Between_Purchase_y</th>\n",
       "      <th>Day_Of_Week_y</th>\n",
       "      <th>Hour_y</th>\n",
       "      <th>Is_UK</th>\n",
       "    </tr>\n",
       "  </thead>\n",
       "  <tbody>\n",
       "    <tr>\n",
       "      <th>0</th>\n",
       "      <td>12346.0</td>\n",
       "      <td>303</td>\n",
       "      <td>2</td>\n",
       "      <td>0</td>\n",
       "      <td>0.00</td>\n",
       "      <td>0.000000</td>\n",
       "      <td>1</td>\n",
       "      <td>0.000000</td>\n",
       "      <td>4</td>\n",
       "      <td>17</td>\n",
       "      <td>0.000000</td>\n",
       "      <td>4</td>\n",
       "      <td>17</td>\n",
       "      <td>1</td>\n",
       "    </tr>\n",
       "    <tr>\n",
       "      <th>1</th>\n",
       "      <td>12347.0</td>\n",
       "      <td>3</td>\n",
       "      <td>7</td>\n",
       "      <td>2458</td>\n",
       "      <td>4310.00</td>\n",
       "      <td>615.714286</td>\n",
       "      <td>103</td>\n",
       "      <td>1.718232</td>\n",
       "      <td>2</td>\n",
       "      <td>10</td>\n",
       "      <td>1.718232</td>\n",
       "      <td>2</td>\n",
       "      <td>10</td>\n",
       "      <td>0</td>\n",
       "    </tr>\n",
       "    <tr>\n",
       "      <th>2</th>\n",
       "      <td>12348.0</td>\n",
       "      <td>97</td>\n",
       "      <td>4</td>\n",
       "      <td>2332</td>\n",
       "      <td>1437.24</td>\n",
       "      <td>359.310000</td>\n",
       "      <td>21</td>\n",
       "      <td>8.192308</td>\n",
       "      <td>4</td>\n",
       "      <td>9</td>\n",
       "      <td>8.192308</td>\n",
       "      <td>4</td>\n",
       "      <td>9</td>\n",
       "      <td>0</td>\n",
       "    </tr>\n",
       "    <tr>\n",
       "      <th>3</th>\n",
       "      <td>12349.0</td>\n",
       "      <td>21</td>\n",
       "      <td>1</td>\n",
       "      <td>630</td>\n",
       "      <td>1457.55</td>\n",
       "      <td>1457.550000</td>\n",
       "      <td>72</td>\n",
       "      <td>0.000000</td>\n",
       "      <td>6</td>\n",
       "      <td>16</td>\n",
       "      <td>0.000000</td>\n",
       "      <td>6</td>\n",
       "      <td>16</td>\n",
       "      <td>0</td>\n",
       "    </tr>\n",
       "    <tr>\n",
       "      <th>4</th>\n",
       "      <td>12350.0</td>\n",
       "      <td>280</td>\n",
       "      <td>1</td>\n",
       "      <td>196</td>\n",
       "      <td>294.40</td>\n",
       "      <td>294.400000</td>\n",
       "      <td>16</td>\n",
       "      <td>0.000000</td>\n",
       "      <td>6</td>\n",
       "      <td>14</td>\n",
       "      <td>0.000000</td>\n",
       "      <td>6</td>\n",
       "      <td>14</td>\n",
       "      <td>0</td>\n",
       "    </tr>\n",
       "  </tbody>\n",
       "</table>\n",
       "</div>"
      ],
      "text/plain": [
       "   CustomerID  Days_Since_Last_Purchase  Total_Transactions  \\\n",
       "0     12346.0                       303                   2   \n",
       "1     12347.0                         3                   7   \n",
       "2     12348.0                        97                   4   \n",
       "3     12349.0                        21                   1   \n",
       "4     12350.0                       280                   1   \n",
       "\n",
       "   Total_Products_Purchased  Total_Spend  Average_Transaction_value  \\\n",
       "0                         0         0.00                   0.000000   \n",
       "1                      2458      4310.00                 615.714286   \n",
       "2                      2332      1437.24                 359.310000   \n",
       "3                       630      1457.55                1457.550000   \n",
       "4                       196       294.40                 294.400000   \n",
       "\n",
       "   Unique_Products_Purchased  Average_Days_Between_Purchase_x  Day_Of_Week_x  \\\n",
       "0                          1                         0.000000              4   \n",
       "1                        103                         1.718232              2   \n",
       "2                         21                         8.192308              4   \n",
       "3                         72                         0.000000              6   \n",
       "4                         16                         0.000000              6   \n",
       "\n",
       "   Hour_x  Average_Days_Between_Purchase_y  Day_Of_Week_y  Hour_y  Is_UK  \n",
       "0      17                         0.000000              4      17      1  \n",
       "1      10                         1.718232              2      10      0  \n",
       "2       9                         8.192308              4       9      0  \n",
       "3      16                         0.000000              6      16      0  \n",
       "4      14                         0.000000              6      14      0  "
      ]
     },
     "execution_count": 64,
     "metadata": {},
     "output_type": "execute_result"
    }
   ],
   "source": [
    "customer_country = df1.groupby([\"CustomerID\", \"Country\"]).size().reset_index(name=\"Number_of_Transaction\")\n",
    "\n",
    "# Get the country with maximum numebr of transaction for each customer\n",
    "customer_main_country = customer_country.sort_values(\"Number_of_Transaction\", ascending=True).drop_duplicates(\"CustomerID\")\n",
    "\n",
    "# Create the binary columns indicating whether the customer is from UK or not \n",
    "customer_main_country[\"Is_UK\"] = customer_main_country[\"Country\"].apply(lambda x: 1 if x == \"United Kingdom\" else 0)\n",
    "\n",
    "customer_data = pd.merge(customer_data, customer_main_country[[\"CustomerID\", \"Is_UK\"]], on=\"CustomerID\", how=\"left\")\n",
    "\n",
    "customer_data.head()"
   ]
  },
  {
   "cell_type": "code",
   "execution_count": 65,
   "metadata": {},
   "outputs": [
    {
     "data": {
      "text/html": [
       "<div>\n",
       "<style scoped>\n",
       "    .dataframe tbody tr th:only-of-type {\n",
       "        vertical-align: middle;\n",
       "    }\n",
       "\n",
       "    .dataframe tbody tr th {\n",
       "        vertical-align: top;\n",
       "    }\n",
       "\n",
       "    .dataframe thead th {\n",
       "        text-align: right;\n",
       "    }\n",
       "</style>\n",
       "<table border=\"1\" class=\"dataframe\">\n",
       "  <thead>\n",
       "    <tr style=\"text-align: right;\">\n",
       "      <th></th>\n",
       "      <th>CustomerID</th>\n",
       "      <th>Country</th>\n",
       "      <th>Number_of_Transaction</th>\n",
       "      <th>Is_UK</th>\n",
       "    </tr>\n",
       "  </thead>\n",
       "  <tbody>\n",
       "    <tr>\n",
       "      <th>2939</th>\n",
       "      <td>16323.0</td>\n",
       "      <td>United Kingdom</td>\n",
       "      <td>1</td>\n",
       "      <td>1</td>\n",
       "    </tr>\n",
       "    <tr>\n",
       "      <th>3243</th>\n",
       "      <td>16737.0</td>\n",
       "      <td>United Kingdom</td>\n",
       "      <td>1</td>\n",
       "      <td>1</td>\n",
       "    </tr>\n",
       "    <tr>\n",
       "      <th>583</th>\n",
       "      <td>13099.0</td>\n",
       "      <td>United Kingdom</td>\n",
       "      <td>1</td>\n",
       "      <td>1</td>\n",
       "    </tr>\n",
       "    <tr>\n",
       "      <th>4239</th>\n",
       "      <td>18113.0</td>\n",
       "      <td>United Kingdom</td>\n",
       "      <td>1</td>\n",
       "      <td>1</td>\n",
       "    </tr>\n",
       "    <tr>\n",
       "      <th>598</th>\n",
       "      <td>13120.0</td>\n",
       "      <td>United Kingdom</td>\n",
       "      <td>1</td>\n",
       "      <td>1</td>\n",
       "    </tr>\n",
       "  </tbody>\n",
       "</table>\n",
       "</div>"
      ],
      "text/plain": [
       "      CustomerID         Country  Number_of_Transaction  Is_UK\n",
       "2939     16323.0  United Kingdom                      1      1\n",
       "3243     16737.0  United Kingdom                      1      1\n",
       "583      13099.0  United Kingdom                      1      1\n",
       "4239     18113.0  United Kingdom                      1      1\n",
       "598      13120.0  United Kingdom                      1      1"
      ]
     },
     "execution_count": 65,
     "metadata": {},
     "output_type": "execute_result"
    }
   ],
   "source": [
    "customer_main_country.head()"
   ]
  },
  {
   "cell_type": "code",
   "execution_count": 66,
   "metadata": {},
   "outputs": [
    {
     "data": {
      "text/plain": [
       "Is_UK\n",
       "1    3866\n",
       "0     416\n",
       "Name: count, dtype: int64"
      ]
     },
     "execution_count": 66,
     "metadata": {},
     "output_type": "execute_result"
    }
   ],
   "source": [
    "customer_data[\"Is_UK\"].value_counts()"
   ]
  },
  {
   "cell_type": "markdown",
   "metadata": {},
   "source": [
    "CANCELLATION INSIGHTS \n",
    "\n",
    "Here we try to understand the cancellation pattern of customer to gain insights which helps us to enhance the customer segmentation model. \n",
    "\n",
    "\n",
    "CANCELLATION FREQUENCY: total numeber of transaction cancelled by a customer. by understandin this we know the customer who are morelikely to cancell the transaction. this could be a indicator or other issues and understanding this helps us to tailor the strategies to reduce cancellation and enhance customer satisfaction. \n",
    "\n",
    "\n",
    "CANCELLATION RATE: This represents the proportion of transaction cancelled out of all transaction done by customer. A hight cancellation rate might indicates the unsatisfied customer segment. by identifing this segment we develop targeted strategies to improve their shopping experience and potentially reduce the cancellation rate\n"
   ]
  },
  {
   "cell_type": "code",
   "execution_count": null,
   "metadata": {},
   "outputs": [],
   "source": []
  }
 ],
 "metadata": {
  "kernelspec": {
   "display_name": "Python 3",
   "language": "python",
   "name": "python3"
  },
  "language_info": {
   "codemirror_mode": {
    "name": "ipython",
    "version": 3
   },
   "file_extension": ".py",
   "mimetype": "text/x-python",
   "name": "python",
   "nbconvert_exporter": "python",
   "pygments_lexer": "ipython3",
   "version": "3.11.4"
  }
 },
 "nbformat": 4,
 "nbformat_minor": 2
}
